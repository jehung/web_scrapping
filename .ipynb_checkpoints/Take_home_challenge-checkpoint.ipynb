{
 "cells": [
  {
   "cell_type": "code",
   "execution_count": 1,
   "metadata": {
    "collapsed": true
   },
   "outputs": [],
   "source": [
    "import time\n",
    "import pandas as pd\n",
    "from selenium import webdriver\n",
    "from selenium.webdriver.common.by import By\n",
    "from selenium.webdriver.support.ui import WebDriverWait\n",
    "from selenium.webdriver.support import expected_conditions as EC\n",
    "from selenium.common.exceptions import TimeoutException\n",
    "from selenium.common.exceptions import NoSuchElementException"
   ]
  },
  {
   "cell_type": "code",
   "execution_count": 2,
   "metadata": {
    "collapsed": true
   },
   "outputs": [],
   "source": [
    "def init_driver():\n",
    "    driver = webdriver.Chrome()\n",
    "    driver.wait = WebDriverWait(driver, 3)\n",
    "    return driver"
   ]
  },
  {
   "cell_type": "code",
   "execution_count": 3,
   "metadata": {
    "collapsed": true
   },
   "outputs": [],
   "source": [
    "def lookup(driver):\n",
    "    post_dict =  {'link':[], 'title':[], 'stats':[], 'last_post_date':[]}\n",
    "    driver.get('http://www.f150ecoboost.net/forum/68-2016-ford-f150-ecoboost-chat')\n",
    "    driver.find_element_by_xpath('''//*[@id=\"yui-gen11\"]''').click()\n",
    "    counter1 = 0\n",
    "    counter2 = 0\n",
    "    counter3 = 0\n",
    "    page_number = 1\n",
    "\n",
    "    while page_number==1:\n",
    "        try:\n",
    "            link = driver.find_element_by_link_text(str(page_number))\n",
    "        except NoSuchElementException:\n",
    "            break\n",
    "\n",
    "        posts = driver.find_elements_by_class_name('threadtitle')\n",
    "        for post in posts:\n",
    "            #print(post.find_element_by_css_selector('a').get_attribute('href'))\n",
    "            post_dict['link'].append(post.find_element_by_css_selector('a').get_attribute('href'))\n",
    "            #print(post.text)\n",
    "            post_dict['title'].append(post.text)\n",
    "            counter1 += 1\n",
    "        print(counter1)\n",
    "\n",
    "        #stats_h = driver.find_elements_by_xpath('''//*[@class='threadstats td']''')\n",
    "        post_dict['stats'].append(driver.find_elements_by_xpath('''//*[@class='threadstats td']'''))\n",
    "        counter2 += 1\n",
    "        stats = driver.find_elements_by_xpath('''//*[@class='threadstats td alt']''')\n",
    "        for stat in stats:\n",
    "            #print(stat.text)\n",
    "            post_dict['stats'].append(stat.text)\n",
    "            counter2 += 1\n",
    "        print(counter2)\n",
    "\n",
    "        postdates = driver.find_elements_by_xpath('''//*[@class='threadlastpost td']''')\n",
    "        for postdate in postdates:\n",
    "            #print(postdate.text)\n",
    "            post_dict['last_post_date'].append(postdate.text.split(','))\n",
    "            counter3 += 1\n",
    "        print(counter3)\n",
    "\n",
    "        link.click()\n",
    "        print(driver.current_url)\n",
    "        page_number += 1\n",
    "\n",
    "    return post_dict"
   ]
  },
  {
   "cell_type": "code",
   "execution_count": 4,
   "metadata": {},
   "outputs": [
    {
     "name": "stdout",
     "output_type": "stream",
     "text": [
      "21\n",
      "21\n",
      "21\n",
      "http://www.f150ecoboost.net/forum/68-2016-ford-f150-ecoboost-chat\n"
     ]
    }
   ],
   "source": [
    "driver = init_driver()\n",
    "data = lookup(driver)"
   ]
  },
  {
   "cell_type": "code",
   "execution_count": 5,
   "metadata": {
    "collapsed": true
   },
   "outputs": [],
   "source": [
    "data = pd.DataFrame.from_dict(data)"
   ]
  },
  {
   "cell_type": "code",
   "execution_count": null,
   "metadata": {
    "collapsed": true
   },
   "outputs": [],
   "source": [
    "data.head()"
   ]
  }
 ],
 "metadata": {
  "kernelspec": {
   "display_name": "Python 3",
   "language": "python",
   "name": "python3"
  },
  "language_info": {
   "codemirror_mode": {
    "name": "ipython",
    "version": 3
   },
   "file_extension": ".py",
   "mimetype": "text/x-python",
   "name": "python",
   "nbconvert_exporter": "python",
   "pygments_lexer": "ipython3",
   "version": "3.6.1"
  }
 },
 "nbformat": 4,
 "nbformat_minor": 2
}
