{
 "cells": [
  {
   "cell_type": "code",
   "execution_count": 1,
   "metadata": {
    "collapsed": true
   },
   "outputs": [],
   "source": [
    "import time\n",
    "import pandas as pd\n",
    "import numpy as np\n",
    "from selenium import webdriver\n",
    "from selenium.webdriver.common.by import By\n",
    "from selenium.webdriver.support.ui import WebDriverWait\n",
    "from selenium.webdriver.support import expected_conditions as EC\n",
    "from selenium.common.exceptions import TimeoutException\n",
    "from selenium.common.exceptions import NoSuchElementException"
   ]
  },
  {
   "cell_type": "code",
   "execution_count": 2,
   "metadata": {
    "collapsed": true
   },
   "outputs": [],
   "source": [
    "def init_driver():\n",
    "    driver = webdriver.Chrome()\n",
    "    driver.wait = WebDriverWait(driver, 3)\n",
    "    return driver"
   ]
  },
  {
   "cell_type": "code",
   "execution_count": 3,
   "metadata": {
    "collapsed": true
   },
   "outputs": [],
   "source": [
    "def lookup(driver):\n",
    "    post_dict =  {'link':[], 'title':[], 'stats':[], 'last_post_stats':[]}\n",
    "    driver.get('http://www.f150ecoboost.net/forum/68-2016-ford-f150-ecoboost-chat')\n",
    "    driver.find_element_by_xpath('''//*[@id=\"yui-gen11\"]''').click()\n",
    "    counter1 = 0\n",
    "    counter2 = 0\n",
    "    counter3 = 0\n",
    "    page_number = 1\n",
    "\n",
    "    while True:\n",
    "        try:\n",
    "            link = driver.find_element_by_link_text(str(page_number))\n",
    "        except NoSuchElementException:\n",
    "            break\n",
    "\n",
    "        posts = driver.find_elements_by_xpath('''.//*[@class='rating0 nonsticky']''')\n",
    "        for post in posts:\n",
    "            title = post.find_element_by_xpath('''.//a[@class='title']''')\n",
    "            #print(title.text)\n",
    "            post_dict['title'].append(title.text)\n",
    "            #print(title.get_attribute('href'))\n",
    "            post_dict['link'].append(title.get_attribute('href'))\n",
    "            #print(post.find_element_by_xpath('''.//*[@class='threadstats td alt']''').text)\n",
    "            post_dict['stats'].append(post.find_element_by_xpath('''.//*[@class='threadstats td alt']''').text)\n",
    "            #print(post.find_element_by_xpath('''.//*[@class='threadlastpost td']''').text)\n",
    "            post_dict['last_post_stats'].append(post.find_element_by_xpath('''.//*[@class='threadlastpost td']''').text)\n",
    "            counter1 += 1\n",
    "        print(counter1)\n",
    "\n",
    "        link.click()\n",
    "        print(driver.current_url)\n",
    "        page_number += 1\n",
    "\n",
    "    return post_dict\n"
   ]
  },
  {
   "cell_type": "code",
   "execution_count": 4,
   "metadata": {
    "collapsed": true
   },
   "outputs": [],
   "source": [
    "def process_df(post_dict):\n",
    "    post_dict['Last_post_date'] = post_dict.last_post_stats.apply(lambda x:(x.split(',')[0]).split('\\n')[1])\n",
    "    post_dict['Last_post_time'] = post_dict.last_post_stats.apply(lambda x: x.split(',')[1])\n",
    "    \n",
    "    post_dict.Last_post_date = post_dict.Last_post_date.apply(lambda x:datetime.datetime.strptime(x, '%Y-%m-%d'))\n",
    "    \n",
    "    post_dict['Replies'] = post_dict.stats.apply(lambda x: int((x.split('\\n')[0]).split(':')[1].replace(',', '')))\n",
    "    post_dict['Views'] = post_dict.stats.apply(lambda x: int(((x.split('\\n')[1]).split(': ')[1]).replace(',','')))\n",
    "    post_dict.drop(['last_post_stats', 'stats'], axis=1, inplace=True)\n",
    "    \n",
    "    return post_dict"
   ]
  },
  {
   "cell_type": "code",
   "execution_count": 28,
   "metadata": {
    "collapsed": true
   },
   "outputs": [],
   "source": [
    "def sort_values_by(df, by, ascending):\n",
    "    sorted_df = df.sort_values(by=by, ascending=ascending)\n",
    "    return sorted_df"
   ]
  },
  {
   "cell_type": "code",
   "execution_count": 6,
   "metadata": {},
   "outputs": [
    {
     "name": "stdout",
     "output_type": "stream",
     "text": [
      "18\n",
      "http://www.f150ecoboost.net/forum/68-2016-ford-f150-ecoboost-chat\n",
      "36\n",
      "http://www.f150ecoboost.net/forum/68-2016-ford-f150-ecoboost-chat/index2.html\n",
      "56\n",
      "http://www.f150ecoboost.net/forum/68-2016-ford-f150-ecoboost-chat/index3.html\n",
      "76\n",
      "http://www.f150ecoboost.net/forum/68-2016-ford-f150-ecoboost-chat/index4.html\n",
      "96\n",
      "http://www.f150ecoboost.net/forum/68-2016-ford-f150-ecoboost-chat/index5.html\n",
      "116\n",
      "http://www.f150ecoboost.net/forum/68-2016-ford-f150-ecoboost-chat/index6.html\n",
      "134\n",
      "http://www.f150ecoboost.net/forum/68-2016-ford-f150-ecoboost-chat/index7.html\n",
      "154\n",
      "http://www.f150ecoboost.net/forum/68-2016-ford-f150-ecoboost-chat/index8.html\n",
      "174\n",
      "http://www.f150ecoboost.net/forum/68-2016-ford-f150-ecoboost-chat/index9.html\n",
      "194\n",
      "http://www.f150ecoboost.net/forum/68-2016-ford-f150-ecoboost-chat/index10.html\n",
      "214\n",
      "http://www.f150ecoboost.net/forum/68-2016-ford-f150-ecoboost-chat/index11.html\n",
      "234\n",
      "http://www.f150ecoboost.net/forum/68-2016-ford-f150-ecoboost-chat/index12.html\n",
      "254\n",
      "http://www.f150ecoboost.net/forum/68-2016-ford-f150-ecoboost-chat/index13.html\n",
      "267\n",
      "http://www.f150ecoboost.net/forum/68-2016-ford-f150-ecoboost-chat/index13.html\n"
     ]
    }
   ],
   "source": [
    "driver = init_driver()\n",
    "data = lookup(driver)\n",
    "time.sleep(5)\n",
    "driver.quit()"
   ]
  },
  {
   "cell_type": "code",
   "execution_count": 7,
   "metadata": {
    "collapsed": true
   },
   "outputs": [],
   "source": [
    "data = pd.DataFrame.from_dict(data)"
   ]
  },
  {
   "cell_type": "code",
   "execution_count": 8,
   "metadata": {},
   "outputs": [],
   "source": [
    "data = process_df(data)"
   ]
  },
  {
   "cell_type": "code",
   "execution_count": 9,
   "metadata": {},
   "outputs": [
    {
     "data": {
      "text/html": [
       "<div>\n",
       "<style>\n",
       "    .dataframe thead tr:only-child th {\n",
       "        text-align: right;\n",
       "    }\n",
       "\n",
       "    .dataframe thead th {\n",
       "        text-align: left;\n",
       "    }\n",
       "\n",
       "    .dataframe tbody tr th {\n",
       "        vertical-align: top;\n",
       "    }\n",
       "</style>\n",
       "<table border=\"1\" class=\"dataframe\">\n",
       "  <thead>\n",
       "    <tr style=\"text-align: right;\">\n",
       "      <th></th>\n",
       "      <th>link</th>\n",
       "      <th>title</th>\n",
       "      <th>Last_post_date</th>\n",
       "      <th>Last_post_time</th>\n",
       "      <th>Replies</th>\n",
       "      <th>Views</th>\n",
       "    </tr>\n",
       "  </thead>\n",
       "  <tbody>\n",
       "    <tr>\n",
       "      <th>0</th>\n",
       "      <td>http://www.f150ecoboost.net/forum/68-2016-ford...</td>\n",
       "      <td>Lets hear from the happy 2.7 owners that have ...</td>\n",
       "      <td>Yesterday</td>\n",
       "      <td>05:13 PM</td>\n",
       "      <td>19</td>\n",
       "      <td>484</td>\n",
       "    </tr>\n",
       "    <tr>\n",
       "      <th>1</th>\n",
       "      <td>http://www.f150ecoboost.net/forum/68-2016-ford...</td>\n",
       "      <td>2106 F150 squeak</td>\n",
       "      <td>Yesterday</td>\n",
       "      <td>07:45 AM</td>\n",
       "      <td>1</td>\n",
       "      <td>54</td>\n",
       "    </tr>\n",
       "    <tr>\n",
       "      <th>2</th>\n",
       "      <td>http://www.f150ecoboost.net/forum/68-2016-ford...</td>\n",
       "      <td>Air Conditioning hiccup</td>\n",
       "      <td>08-23-2017</td>\n",
       "      <td>02:28 PM</td>\n",
       "      <td>1</td>\n",
       "      <td>64</td>\n",
       "    </tr>\n",
       "    <tr>\n",
       "      <th>3</th>\n",
       "      <td>http://www.f150ecoboost.net/forum/68-2016-ford...</td>\n",
       "      <td>Foam Cover Purpose?</td>\n",
       "      <td>08-17-2017</td>\n",
       "      <td>12:19 PM</td>\n",
       "      <td>3</td>\n",
       "      <td>171</td>\n",
       "    </tr>\n",
       "    <tr>\n",
       "      <th>4</th>\n",
       "      <td>http://www.f150ecoboost.net/forum/68-2016-ford...</td>\n",
       "      <td>Speedometer and cruise don't match up</td>\n",
       "      <td>08-10-2017</td>\n",
       "      <td>07:17 AM</td>\n",
       "      <td>9</td>\n",
       "      <td>257</td>\n",
       "    </tr>\n",
       "  </tbody>\n",
       "</table>\n",
       "</div>"
      ],
      "text/plain": [
       "                                                link  \\\n",
       "0  http://www.f150ecoboost.net/forum/68-2016-ford...   \n",
       "1  http://www.f150ecoboost.net/forum/68-2016-ford...   \n",
       "2  http://www.f150ecoboost.net/forum/68-2016-ford...   \n",
       "3  http://www.f150ecoboost.net/forum/68-2016-ford...   \n",
       "4  http://www.f150ecoboost.net/forum/68-2016-ford...   \n",
       "\n",
       "                                               title Last_post_date  \\\n",
       "0  Lets hear from the happy 2.7 owners that have ...      Yesterday   \n",
       "1                                   2106 F150 squeak      Yesterday   \n",
       "2                            Air Conditioning hiccup     08-23-2017   \n",
       "3                                Foam Cover Purpose?     08-17-2017   \n",
       "4              Speedometer and cruise don't match up     08-10-2017   \n",
       "\n",
       "  Last_post_time  Replies  Views  \n",
       "0       05:13 PM       19    484  \n",
       "1       07:45 AM        1     54  \n",
       "2       02:28 PM        1     64  \n",
       "3       12:19 PM        3    171  \n",
       "4       07:17 AM        9    257  "
      ]
     },
     "execution_count": 9,
     "metadata": {},
     "output_type": "execute_result"
    }
   ],
   "source": [
    "data.head()"
   ]
  },
  {
   "cell_type": "code",
   "execution_count": 10,
   "metadata": {},
   "outputs": [
    {
     "data": {
      "text/plain": [
       "link              object\n",
       "title             object\n",
       "Last_post_date    object\n",
       "Last_post_time    object\n",
       "Replies            int64\n",
       "Views              int64\n",
       "dtype: object"
      ]
     },
     "execution_count": 10,
     "metadata": {},
     "output_type": "execute_result"
    }
   ],
   "source": [
    "data.dtypes"
   ]
  },
  {
   "cell_type": "code",
   "execution_count": 45,
   "metadata": {},
   "outputs": [],
   "source": [
    "sorted_data = sort_values_by(data, ['Replies','Views'], [False,False])"
   ]
  },
  {
   "cell_type": "code",
   "execution_count": 46,
   "metadata": {},
   "outputs": [
    {
     "data": {
      "text/html": [
       "<div>\n",
       "<style>\n",
       "    .dataframe thead tr:only-child th {\n",
       "        text-align: right;\n",
       "    }\n",
       "\n",
       "    .dataframe thead th {\n",
       "        text-align: left;\n",
       "    }\n",
       "\n",
       "    .dataframe tbody tr th {\n",
       "        vertical-align: top;\n",
       "    }\n",
       "</style>\n",
       "<table border=\"1\" class=\"dataframe\">\n",
       "  <thead>\n",
       "    <tr style=\"text-align: right;\">\n",
       "      <th></th>\n",
       "      <th>link</th>\n",
       "      <th>title</th>\n",
       "      <th>Last_post_date</th>\n",
       "      <th>Last_post_time</th>\n",
       "      <th>Replies</th>\n",
       "      <th>Views</th>\n",
       "    </tr>\n",
       "  </thead>\n",
       "  <tbody>\n",
       "    <tr>\n",
       "      <th>17</th>\n",
       "      <td>http://www.f150ecoboost.net/forum/68-2016-ford...</td>\n",
       "      <td>What did you pay for your 2016 Truck?</td>\n",
       "      <td>07-09-2017</td>\n",
       "      <td>06:48 AM</td>\n",
       "      <td>129</td>\n",
       "      <td>57503</td>\n",
       "    </tr>\n",
       "    <tr>\n",
       "      <th>35</th>\n",
       "      <td>http://www.f150ecoboost.net/forum/68-2016-ford...</td>\n",
       "      <td>What did you pay for your 2016 Truck?</td>\n",
       "      <td>07-09-2017</td>\n",
       "      <td>06:48 AM</td>\n",
       "      <td>129</td>\n",
       "      <td>57503</td>\n",
       "    </tr>\n",
       "    <tr>\n",
       "      <th>75</th>\n",
       "      <td>http://www.f150ecoboost.net/forum/68-2016-ford...</td>\n",
       "      <td>Android auto/apple car play</td>\n",
       "      <td>03-31-2017</td>\n",
       "      <td>06:16 PM</td>\n",
       "      <td>127</td>\n",
       "      <td>18252</td>\n",
       "    </tr>\n",
       "    <tr>\n",
       "      <th>80</th>\n",
       "      <td>http://www.f150ecoboost.net/forum/68-2016-ford...</td>\n",
       "      <td>8 Quarts of oil in 6600 miles? 3+ qts low at 4...</td>\n",
       "      <td>03-16-2017</td>\n",
       "      <td>06:00 AM</td>\n",
       "      <td>59</td>\n",
       "      <td>6164</td>\n",
       "    </tr>\n",
       "    <tr>\n",
       "      <th>183</th>\n",
       "      <td>http://www.f150ecoboost.net/forum/68-2016-ford...</td>\n",
       "      <td>FMIC choices?</td>\n",
       "      <td>07-22-2016</td>\n",
       "      <td>09:38 PM</td>\n",
       "      <td>56</td>\n",
       "      <td>2017</td>\n",
       "    </tr>\n",
       "  </tbody>\n",
       "</table>\n",
       "</div>"
      ],
      "text/plain": [
       "                                                  link  \\\n",
       "17   http://www.f150ecoboost.net/forum/68-2016-ford...   \n",
       "35   http://www.f150ecoboost.net/forum/68-2016-ford...   \n",
       "75   http://www.f150ecoboost.net/forum/68-2016-ford...   \n",
       "80   http://www.f150ecoboost.net/forum/68-2016-ford...   \n",
       "183  http://www.f150ecoboost.net/forum/68-2016-ford...   \n",
       "\n",
       "                                                 title Last_post_date  \\\n",
       "17               What did you pay for your 2016 Truck?     07-09-2017   \n",
       "35               What did you pay for your 2016 Truck?     07-09-2017   \n",
       "75                         Android auto/apple car play     03-31-2017   \n",
       "80   8 Quarts of oil in 6600 miles? 3+ qts low at 4...     03-16-2017   \n",
       "183                                      FMIC choices?     07-22-2016   \n",
       "\n",
       "    Last_post_time  Replies  Views  \n",
       "17        06:48 AM      129  57503  \n",
       "35        06:48 AM      129  57503  \n",
       "75        06:16 PM      127  18252  \n",
       "80        06:00 AM       59   6164  \n",
       "183       09:38 PM       56   2017  "
      ]
     },
     "execution_count": 46,
     "metadata": {},
     "output_type": "execute_result"
    }
   ],
   "source": [
    "sorted_data.head()"
   ]
  },
  {
   "cell_type": "code",
   "execution_count": 48,
   "metadata": {},
   "outputs": [
    {
     "data": {
      "text/plain": [
       "'08-23-2017'"
      ]
     },
     "execution_count": 48,
     "metadata": {},
     "output_type": "execute_result"
    }
   ],
   "source": [
    "data.Last_post_date[2]"
   ]
  },
  {
   "cell_type": "code",
   "execution_count": null,
   "metadata": {
    "collapsed": true
   },
   "outputs": [],
   "source": []
  }
 ],
 "metadata": {
  "kernelspec": {
   "display_name": "Python 3",
   "language": "python",
   "name": "python3"
  },
  "language_info": {
   "codemirror_mode": {
    "name": "ipython",
    "version": 3
   },
   "file_extension": ".py",
   "mimetype": "text/x-python",
   "name": "python",
   "nbconvert_exporter": "python",
   "pygments_lexer": "ipython3",
   "version": "3.6.1"
  }
 },
 "nbformat": 4,
 "nbformat_minor": 2
}
