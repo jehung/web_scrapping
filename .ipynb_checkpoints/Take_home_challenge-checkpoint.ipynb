{
 "cells": [
  {
   "cell_type": "code",
   "execution_count": 1,
   "metadata": {
    "collapsed": true
   },
   "outputs": [],
   "source": [
    "import time\n",
    "import pandas as pd\n",
    "import numpy as np\n",
    "import datetime\n",
    "from selenium import webdriver\n",
    "from selenium.webdriver.common.by import By\n",
    "from selenium.webdriver.support.ui import WebDriverWait\n",
    "from selenium.webdriver.support import expected_conditions as EC\n",
    "from selenium.common.exceptions import TimeoutException\n",
    "from selenium.common.exceptions import NoSuchElementException"
   ]
  },
  {
   "cell_type": "code",
   "execution_count": 2,
   "metadata": {
    "collapsed": true
   },
   "outputs": [],
   "source": [
    "def init_driver():\n",
    "    driver = webdriver.Chrome()\n",
    "    driver.wait = WebDriverWait(driver, 3)\n",
    "    return driver"
   ]
  },
  {
   "cell_type": "code",
   "execution_count": 3,
   "metadata": {
    "collapsed": true
   },
   "outputs": [],
   "source": [
    "def lookup(driver):\n",
    "    post_dict =  {'link':[], 'title':[], 'stats':[], 'last_post_stats':[]}\n",
    "    driver.get('http://www.f150ecoboost.net/forum/68-2016-ford-f150-ecoboost-chat')\n",
    "    driver.find_element_by_xpath('''//*[@id=\"yui-gen11\"]''').click()\n",
    "    counter1 = 0\n",
    "    counter2 = 0\n",
    "    counter3 = 0\n",
    "    page_number = 1\n",
    "\n",
    "    while True:\n",
    "        try:\n",
    "            link = driver.find_element_by_link_text(str(page_number))\n",
    "        except NoSuchElementException:\n",
    "            break\n",
    "\n",
    "        posts = driver.find_elements_by_xpath('''.//*[@class='rating0 nonsticky']''')\n",
    "        for post in posts:\n",
    "            title = post.find_element_by_xpath('''.//a[@class='title']''')\n",
    "            #print(title.text)\n",
    "            post_dict['title'].append(title.text)\n",
    "            #print(title.get_attribute('href'))\n",
    "            post_dict['link'].append(title.get_attribute('href'))\n",
    "            #print(post.find_element_by_xpath('''.//*[@class='threadstats td alt']''').text)\n",
    "            post_dict['stats'].append(post.find_element_by_xpath('''.//*[@class='threadstats td alt']''').text)\n",
    "            #print(post.find_element_by_xpath('''.//*[@class='threadlastpost td']''').text)\n",
    "            post_dict['last_post_stats'].append(post.find_element_by_xpath('''.//*[@class='threadlastpost td']''').text)\n",
    "            counter1 += 1\n",
    "        print(counter1)\n",
    "\n",
    "        link.click()\n",
    "        print(driver.current_url)\n",
    "        page_number += 1\n",
    "\n",
    "    return post_dict\n"
   ]
  },
  {
   "cell_type": "code",
   "execution_count": 4,
   "metadata": {},
   "outputs": [],
   "source": [
    "def process_df(post_dict):\n",
    "    post_dict['Last_post_date'] = post_dict.last_post_stats.apply(lambda x:(x.split(',')[0]).split('\\n')[1])\n",
    "    post_dict['Last_post_time'] = post_dict.last_post_stats.apply(lambda x: x.split(',')[1])\n",
    "    \n",
    "    post_dict.Last_post_date = post_dict.Last_post_date.apply(lambda x:datetime.datetime.strptime(x,'%m-%d-%Y') if x not in ('Yesterday','Today') else x)\n",
    "    post_dict.Last_post_time = post_dict.Last_post_time.apply(lambda x:(time.strftime('%H:%M',time.strptime(x,' %I:%M %p'))))\n",
    "                                                              \n",
    "    post_dict['Replies'] = post_dict.stats.apply(lambda x: int((x.split('\\n')[0]).split(':')[1].replace(',', '')))\n",
    "    post_dict['Views'] = post_dict.stats.apply(lambda x: int(((x.split('\\n')[1]).split(': ')[1]).replace(',','')))\n",
    "    post_dict.drop(['last_post_stats', 'stats'], axis=1, inplace=True)\n",
    "    \n",
    "    return post_dict"
   ]
  },
  {
   "cell_type": "code",
   "execution_count": 5,
   "metadata": {
    "collapsed": true
   },
   "outputs": [],
   "source": [
    "def sort_values_by(df, by, ascending):\n",
    "    sorted_df = df.sort_values(by=by, ascending=ascending)\n",
    "    return sorted_df"
   ]
  },
  {
   "cell_type": "code",
   "execution_count": 6,
   "metadata": {},
   "outputs": [
    {
     "name": "stdout",
     "output_type": "stream",
     "text": [
      "18\n",
      "http://www.f150ecoboost.net/forum/68-2016-ford-f150-ecoboost-chat\n",
      "36\n",
      "http://www.f150ecoboost.net/forum/68-2016-ford-f150-ecoboost-chat/index2.html\n",
      "56\n",
      "http://www.f150ecoboost.net/forum/68-2016-ford-f150-ecoboost-chat/index3.html\n",
      "76\n",
      "http://www.f150ecoboost.net/forum/68-2016-ford-f150-ecoboost-chat/index4.html\n",
      "96\n",
      "http://www.f150ecoboost.net/forum/68-2016-ford-f150-ecoboost-chat/index5.html\n",
      "116\n",
      "http://www.f150ecoboost.net/forum/68-2016-ford-f150-ecoboost-chat/index6.html\n",
      "134\n",
      "http://www.f150ecoboost.net/forum/68-2016-ford-f150-ecoboost-chat/index7.html\n",
      "154\n",
      "http://www.f150ecoboost.net/forum/68-2016-ford-f150-ecoboost-chat/index8.html\n",
      "174\n",
      "http://www.f150ecoboost.net/forum/68-2016-ford-f150-ecoboost-chat/index9.html\n",
      "194\n",
      "http://www.f150ecoboost.net/forum/68-2016-ford-f150-ecoboost-chat/index10.html\n",
      "214\n",
      "http://www.f150ecoboost.net/forum/68-2016-ford-f150-ecoboost-chat/index11.html\n",
      "234\n",
      "http://www.f150ecoboost.net/forum/68-2016-ford-f150-ecoboost-chat/index12.html\n",
      "254\n",
      "http://www.f150ecoboost.net/forum/68-2016-ford-f150-ecoboost-chat/index13.html\n",
      "267\n",
      "http://www.f150ecoboost.net/forum/68-2016-ford-f150-ecoboost-chat/index13.html\n"
     ]
    }
   ],
   "source": [
    "driver = init_driver()\n",
    "data = lookup(driver)\n",
    "time.sleep(5)\n",
    "driver.quit()"
   ]
  },
  {
   "cell_type": "code",
   "execution_count": 7,
   "metadata": {
    "collapsed": true
   },
   "outputs": [],
   "source": [
    "data = pd.DataFrame.from_dict(data)"
   ]
  },
  {
   "cell_type": "code",
   "execution_count": 8,
   "metadata": {},
   "outputs": [],
   "source": [
    "data = process_df(data)"
   ]
  },
  {
   "cell_type": "code",
   "execution_count": 9,
   "metadata": {},
   "outputs": [
    {
     "data": {
      "text/html": [
       "<div>\n",
       "<style>\n",
       "    .dataframe thead tr:only-child th {\n",
       "        text-align: right;\n",
       "    }\n",
       "\n",
       "    .dataframe thead th {\n",
       "        text-align: left;\n",
       "    }\n",
       "\n",
       "    .dataframe tbody tr th {\n",
       "        vertical-align: top;\n",
       "    }\n",
       "</style>\n",
       "<table border=\"1\" class=\"dataframe\">\n",
       "  <thead>\n",
       "    <tr style=\"text-align: right;\">\n",
       "      <th></th>\n",
       "      <th>link</th>\n",
       "      <th>title</th>\n",
       "      <th>Last_post_date</th>\n",
       "      <th>Last_post_time</th>\n",
       "      <th>Replies</th>\n",
       "      <th>Views</th>\n",
       "    </tr>\n",
       "  </thead>\n",
       "  <tbody>\n",
       "    <tr>\n",
       "      <th>0</th>\n",
       "      <td>http://www.f150ecoboost.net/forum/68-2016-ford...</td>\n",
       "      <td>Lets hear from the happy 2.7 owners that have ...</td>\n",
       "      <td>Yesterday</td>\n",
       "      <td>17:13</td>\n",
       "      <td>19</td>\n",
       "      <td>486</td>\n",
       "    </tr>\n",
       "    <tr>\n",
       "      <th>1</th>\n",
       "      <td>http://www.f150ecoboost.net/forum/68-2016-ford...</td>\n",
       "      <td>2106 F150 squeak</td>\n",
       "      <td>Yesterday</td>\n",
       "      <td>07:45</td>\n",
       "      <td>1</td>\n",
       "      <td>54</td>\n",
       "    </tr>\n",
       "    <tr>\n",
       "      <th>2</th>\n",
       "      <td>http://www.f150ecoboost.net/forum/68-2016-ford...</td>\n",
       "      <td>Air Conditioning hiccup</td>\n",
       "      <td>2017-08-23 00:00:00</td>\n",
       "      <td>14:28</td>\n",
       "      <td>1</td>\n",
       "      <td>64</td>\n",
       "    </tr>\n",
       "    <tr>\n",
       "      <th>3</th>\n",
       "      <td>http://www.f150ecoboost.net/forum/68-2016-ford...</td>\n",
       "      <td>Foam Cover Purpose?</td>\n",
       "      <td>2017-08-17 00:00:00</td>\n",
       "      <td>12:19</td>\n",
       "      <td>3</td>\n",
       "      <td>171</td>\n",
       "    </tr>\n",
       "    <tr>\n",
       "      <th>4</th>\n",
       "      <td>http://www.f150ecoboost.net/forum/68-2016-ford...</td>\n",
       "      <td>Speedometer and cruise don't match up</td>\n",
       "      <td>2017-08-10 00:00:00</td>\n",
       "      <td>07:17</td>\n",
       "      <td>9</td>\n",
       "      <td>257</td>\n",
       "    </tr>\n",
       "  </tbody>\n",
       "</table>\n",
       "</div>"
      ],
      "text/plain": [
       "                                                link  \\\n",
       "0  http://www.f150ecoboost.net/forum/68-2016-ford...   \n",
       "1  http://www.f150ecoboost.net/forum/68-2016-ford...   \n",
       "2  http://www.f150ecoboost.net/forum/68-2016-ford...   \n",
       "3  http://www.f150ecoboost.net/forum/68-2016-ford...   \n",
       "4  http://www.f150ecoboost.net/forum/68-2016-ford...   \n",
       "\n",
       "                                               title       Last_post_date  \\\n",
       "0  Lets hear from the happy 2.7 owners that have ...            Yesterday   \n",
       "1                                   2106 F150 squeak            Yesterday   \n",
       "2                            Air Conditioning hiccup  2017-08-23 00:00:00   \n",
       "3                                Foam Cover Purpose?  2017-08-17 00:00:00   \n",
       "4              Speedometer and cruise don't match up  2017-08-10 00:00:00   \n",
       "\n",
       "  Last_post_time  Replies  Views  \n",
       "0          17:13       19    486  \n",
       "1          07:45        1     54  \n",
       "2          14:28        1     64  \n",
       "3          12:19        3    171  \n",
       "4          07:17        9    257  "
      ]
     },
     "execution_count": 9,
     "metadata": {},
     "output_type": "execute_result"
    }
   ],
   "source": [
    "data.head()"
   ]
  },
  {
   "cell_type": "code",
   "execution_count": 10,
   "metadata": {},
   "outputs": [
    {
     "data": {
      "text/plain": [
       "link              object\n",
       "title             object\n",
       "Last_post_date    object\n",
       "Last_post_time    object\n",
       "Replies            int64\n",
       "Views              int64\n",
       "dtype: object"
      ]
     },
     "execution_count": 10,
     "metadata": {},
     "output_type": "execute_result"
    }
   ],
   "source": [
    "data.dtypes"
   ]
  },
  {
   "cell_type": "code",
   "execution_count": 11,
   "metadata": {},
   "outputs": [],
   "source": [
    "sorted_data = sort_values_by(data, ['Replies','Views'], [False,False])"
   ]
  },
  {
   "cell_type": "code",
   "execution_count": 26,
   "metadata": {},
   "outputs": [
    {
     "data": {
      "text/plain": [
       "pandas.core.frame.DataFrame"
      ]
     },
     "execution_count": 26,
     "metadata": {},
     "output_type": "execute_result"
    }
   ],
   "source": [
    "sorted_data.head()\n",
    "type(sorted_data)"
   ]
  },
  {
   "cell_type": "code",
   "execution_count": 37,
   "metadata": {},
   "outputs": [],
   "source": [
    "a = sorted_data.groupby('Last_post_date').apply(pd.DataFrame.sort_values, 'Replies')"
   ]
  },
  {
   "cell_type": "code",
   "execution_count": 38,
   "metadata": {},
   "outputs": [
    {
     "data": {
      "text/html": [
       "<div>\n",
       "<style>\n",
       "    .dataframe thead tr:only-child th {\n",
       "        text-align: right;\n",
       "    }\n",
       "\n",
       "    .dataframe thead th {\n",
       "        text-align: left;\n",
       "    }\n",
       "\n",
       "    .dataframe tbody tr th {\n",
       "        vertical-align: top;\n",
       "    }\n",
       "</style>\n",
       "<table border=\"1\" class=\"dataframe\">\n",
       "  <thead>\n",
       "    <tr style=\"text-align: right;\">\n",
       "      <th></th>\n",
       "      <th></th>\n",
       "      <th>link</th>\n",
       "      <th>title</th>\n",
       "      <th>Last_post_date</th>\n",
       "      <th>Last_post_time</th>\n",
       "      <th>Replies</th>\n",
       "      <th>Views</th>\n",
       "    </tr>\n",
       "    <tr>\n",
       "      <th>Last_post_date</th>\n",
       "      <th></th>\n",
       "      <th></th>\n",
       "      <th></th>\n",
       "      <th></th>\n",
       "      <th></th>\n",
       "      <th></th>\n",
       "      <th></th>\n",
       "    </tr>\n",
       "  </thead>\n",
       "  <tbody>\n",
       "    <tr>\n",
       "      <th>2015-12-14 00:00:00</th>\n",
       "      <th>266</th>\n",
       "      <td>http://www.f150ecoboost.net/forum/68-2016-ford...</td>\n",
       "      <td>New Member with a 2016 F-150 3.5 Ecoboost.</td>\n",
       "      <td>2015-12-14 00:00:00</td>\n",
       "      <td>17:22</td>\n",
       "      <td>8</td>\n",
       "      <td>2133</td>\n",
       "    </tr>\n",
       "    <tr>\n",
       "      <th>2015-12-29 00:00:00</th>\n",
       "      <th>265</th>\n",
       "      <td>http://www.f150ecoboost.net/forum/68-2016-ford...</td>\n",
       "      <td>This section of the forum seems lonely...</td>\n",
       "      <td>2015-12-29 00:00:00</td>\n",
       "      <td>12:12</td>\n",
       "      <td>26</td>\n",
       "      <td>3313</td>\n",
       "    </tr>\n",
       "    <tr>\n",
       "      <th>2016-01-15 00:00:00</th>\n",
       "      <th>264</th>\n",
       "      <td>http://www.f150ecoboost.net/forum/68-2016-ford...</td>\n",
       "      <td>New to the Boost</td>\n",
       "      <td>2016-01-15 00:00:00</td>\n",
       "      <td>05:55</td>\n",
       "      <td>6</td>\n",
       "      <td>959</td>\n",
       "    </tr>\n",
       "    <tr>\n",
       "      <th>2016-01-23 00:00:00</th>\n",
       "      <th>263</th>\n",
       "      <td>http://www.f150ecoboost.net/forum/68-2016-ford...</td>\n",
       "      <td>New member, purchasing first eco boost</td>\n",
       "      <td>2016-01-23 00:00:00</td>\n",
       "      <td>11:44</td>\n",
       "      <td>14</td>\n",
       "      <td>2233</td>\n",
       "    </tr>\n",
       "    <tr>\n",
       "      <th>2016-01-27 00:00:00</th>\n",
       "      <th>262</th>\n",
       "      <td>http://www.f150ecoboost.net/forum/68-2016-ford...</td>\n",
       "      <td>New member</td>\n",
       "      <td>2016-01-27 00:00:00</td>\n",
       "      <td>11:20</td>\n",
       "      <td>8</td>\n",
       "      <td>601</td>\n",
       "    </tr>\n",
       "  </tbody>\n",
       "</table>\n",
       "</div>"
      ],
      "text/plain": [
       "                                                                      link  \\\n",
       "Last_post_date                                                               \n",
       "2015-12-14 00:00:00 266  http://www.f150ecoboost.net/forum/68-2016-ford...   \n",
       "2015-12-29 00:00:00 265  http://www.f150ecoboost.net/forum/68-2016-ford...   \n",
       "2016-01-15 00:00:00 264  http://www.f150ecoboost.net/forum/68-2016-ford...   \n",
       "2016-01-23 00:00:00 263  http://www.f150ecoboost.net/forum/68-2016-ford...   \n",
       "2016-01-27 00:00:00 262  http://www.f150ecoboost.net/forum/68-2016-ford...   \n",
       "\n",
       "                                                              title  \\\n",
       "Last_post_date                                                        \n",
       "2015-12-14 00:00:00 266  New Member with a 2016 F-150 3.5 Ecoboost.   \n",
       "2015-12-29 00:00:00 265   This section of the forum seems lonely...   \n",
       "2016-01-15 00:00:00 264                            New to the Boost   \n",
       "2016-01-23 00:00:00 263      New member, purchasing first eco boost   \n",
       "2016-01-27 00:00:00 262                                  New member   \n",
       "\n",
       "                              Last_post_date Last_post_time  Replies  Views  \n",
       "Last_post_date                                                               \n",
       "2015-12-14 00:00:00 266  2015-12-14 00:00:00          17:22        8   2133  \n",
       "2015-12-29 00:00:00 265  2015-12-29 00:00:00          12:12       26   3313  \n",
       "2016-01-15 00:00:00 264  2016-01-15 00:00:00          05:55        6    959  \n",
       "2016-01-23 00:00:00 263  2016-01-23 00:00:00          11:44       14   2233  \n",
       "2016-01-27 00:00:00 262  2016-01-27 00:00:00          11:20        8    601  "
      ]
     },
     "execution_count": 38,
     "metadata": {},
     "output_type": "execute_result"
    }
   ],
   "source": [
    "a.head()"
   ]
  },
  {
   "cell_type": "code",
   "execution_count": 34,
   "metadata": {},
   "outputs": [
    {
     "data": {
      "text/plain": [
       "pandas.core.groupby.DataFrameGroupBy"
      ]
     },
     "execution_count": 34,
     "metadata": {},
     "output_type": "execute_result"
    }
   ],
   "source": [
    "type(a)"
   ]
  },
  {
   "cell_type": "code",
   "execution_count": 39,
   "metadata": {
    "collapsed": true
   },
   "outputs": [],
   "source": [
    "a.to_csv('Top100_Posts.csv')"
   ]
  },
  {
   "cell_type": "code",
   "execution_count": null,
   "metadata": {
    "collapsed": true
   },
   "outputs": [],
   "source": []
  }
 ],
 "metadata": {
  "kernelspec": {
   "display_name": "Python 3",
   "language": "python",
   "name": "python3"
  },
  "language_info": {
   "codemirror_mode": {
    "name": "ipython",
    "version": 3
   },
   "file_extension": ".py",
   "mimetype": "text/x-python",
   "name": "python",
   "nbconvert_exporter": "python",
   "pygments_lexer": "ipython3",
   "version": "3.6.1"
  }
 },
 "nbformat": 4,
 "nbformat_minor": 2
}
