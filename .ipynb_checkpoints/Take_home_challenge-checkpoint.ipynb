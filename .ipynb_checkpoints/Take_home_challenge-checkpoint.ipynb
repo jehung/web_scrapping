{
 "cells": [
  {
   "cell_type": "code",
   "execution_count": 1,
   "metadata": {
    "collapsed": true
   },
   "outputs": [],
   "source": [
    "import time\n",
    "import pandas as pd\n",
    "from selenium import webdriver\n",
    "from selenium.webdriver.common.by import By\n",
    "from selenium.webdriver.support.ui import WebDriverWait\n",
    "from selenium.webdriver.support import expected_conditions as EC\n",
    "from selenium.common.exceptions import TimeoutException\n",
    "from selenium.common.exceptions import NoSuchElementException"
   ]
  },
  {
   "cell_type": "code",
   "execution_count": 2,
   "metadata": {
    "collapsed": true
   },
   "outputs": [],
   "source": [
    "def init_driver():\n",
    "    driver = webdriver.Chrome()\n",
    "    driver.wait = WebDriverWait(driver, 3)\n",
    "    return driver"
   ]
  },
  {
   "cell_type": "code",
   "execution_count": 3,
   "metadata": {
    "collapsed": true
   },
   "outputs": [],
   "source": [
    "def lookup(driver):\n",
    "    post_dict =  {'link':[], 'title':[], 'stats':[], 'last_post_date':[]}\n",
    "    driver.get('http://www.f150ecoboost.net/forum/68-2016-ford-f150-ecoboost-chat')\n",
    "    driver.find_element_by_xpath('''//*[@id=\"yui-gen11\"]''').click()\n",
    "    counter1 = 0\n",
    "    counter2 = 0\n",
    "    counter3 = 0\n",
    "    page_number = 1\n",
    "\n",
    "    while True:\n",
    "        try:\n",
    "            link = driver.find_element_by_link_text(str(page_number))\n",
    "        except NoSuchElementException:\n",
    "            break\n",
    "\n",
    "        posts = driver.find_elements_by_xpath('''.//*[@class='rating0 nonsticky']''')\n",
    "        for post in posts:\n",
    "            title = post.find_element_by_xpath('''.//a[@class='title']''')\n",
    "            #print(title.text)\n",
    "            post_dict['title'].append(title.text)\n",
    "            #print(title.get_attribute('href'))\n",
    "            post_dict['link'].append(title.get_attribute('href'))\n",
    "            #print(post.find_element_by_xpath('''.//*[@class='threadstats td alt']''').text)\n",
    "            post_dict['stats'].append(post.find_element_by_xpath('''.//*[@class='threadstats td alt']''').text)\n",
    "            #print(post.find_element_by_xpath('''.//*[@class='threadlastpost td']''').text)\n",
    "            post_dict['last_post_date'].append(post.find_element_by_xpath('''.//*[@class='threadlastpost td']''').text)\n",
    "            counter1 += 1\n",
    "        print(counter1)\n",
    "\n",
    "        link.click()\n",
    "        print(driver.current_url)\n",
    "        page_number += 1\n",
    "\n",
    "    return post_dict\n"
   ]
  },
  {
   "cell_type": "code",
   "execution_count": 4,
   "metadata": {},
   "outputs": [
    {
     "name": "stdout",
     "output_type": "stream",
     "text": [
      "18\n",
      "http://www.f150ecoboost.net/forum/68-2016-ford-f150-ecoboost-chat\n",
      "36\n",
      "http://www.f150ecoboost.net/forum/68-2016-ford-f150-ecoboost-chat/index2.html\n",
      "56\n",
      "http://www.f150ecoboost.net/forum/68-2016-ford-f150-ecoboost-chat/index3.html\n",
      "76\n",
      "http://www.f150ecoboost.net/forum/68-2016-ford-f150-ecoboost-chat/index4.html\n",
      "96\n",
      "http://www.f150ecoboost.net/forum/68-2016-ford-f150-ecoboost-chat/index5.html\n",
      "116\n",
      "http://www.f150ecoboost.net/forum/68-2016-ford-f150-ecoboost-chat/index6.html\n",
      "134\n",
      "http://www.f150ecoboost.net/forum/68-2016-ford-f150-ecoboost-chat/index7.html\n",
      "154\n",
      "http://www.f150ecoboost.net/forum/68-2016-ford-f150-ecoboost-chat/index8.html\n",
      "174\n",
      "http://www.f150ecoboost.net/forum/68-2016-ford-f150-ecoboost-chat/index9.html\n",
      "194\n",
      "http://www.f150ecoboost.net/forum/68-2016-ford-f150-ecoboost-chat/index10.html\n",
      "214\n",
      "http://www.f150ecoboost.net/forum/68-2016-ford-f150-ecoboost-chat/index11.html\n",
      "234\n",
      "http://www.f150ecoboost.net/forum/68-2016-ford-f150-ecoboost-chat/index12.html\n",
      "254\n",
      "http://www.f150ecoboost.net/forum/68-2016-ford-f150-ecoboost-chat/index13.html\n",
      "267\n",
      "http://www.f150ecoboost.net/forum/68-2016-ford-f150-ecoboost-chat/index13.html\n"
     ]
    }
   ],
   "source": [
    "driver = init_driver()\n",
    "data = lookup(driver)"
   ]
  },
  {
   "cell_type": "code",
   "execution_count": 5,
   "metadata": {
    "collapsed": true
   },
   "outputs": [],
   "source": [
    "data = pd.DataFrame.from_dict(data)"
   ]
  },
  {
   "cell_type": "code",
   "execution_count": 6,
   "metadata": {},
   "outputs": [
    {
     "data": {
      "text/html": [
       "<div>\n",
       "<style>\n",
       "    .dataframe thead tr:only-child th {\n",
       "        text-align: right;\n",
       "    }\n",
       "\n",
       "    .dataframe thead th {\n",
       "        text-align: left;\n",
       "    }\n",
       "\n",
       "    .dataframe tbody tr th {\n",
       "        vertical-align: top;\n",
       "    }\n",
       "</style>\n",
       "<table border=\"1\" class=\"dataframe\">\n",
       "  <thead>\n",
       "    <tr style=\"text-align: right;\">\n",
       "      <th></th>\n",
       "      <th>last_post_date</th>\n",
       "      <th>link</th>\n",
       "      <th>stats</th>\n",
       "      <th>title</th>\n",
       "    </tr>\n",
       "  </thead>\n",
       "  <tbody>\n",
       "    <tr>\n",
       "      <th>0</th>\n",
       "      <td>Bruno2016\\nToday, 02:53 PM</td>\n",
       "      <td>http://www.f150ecoboost.net/forum/68-2016-ford...</td>\n",
       "      <td>Replies: 18\\nViews: 446</td>\n",
       "      <td>Lets hear from the happy 2.7 owners that have ...</td>\n",
       "    </tr>\n",
       "    <tr>\n",
       "      <th>1</th>\n",
       "      <td>nineunbuffed\\nToday, 07:45 AM</td>\n",
       "      <td>http://www.f150ecoboost.net/forum/68-2016-ford...</td>\n",
       "      <td>Replies: 1\\nViews: 39</td>\n",
       "      <td>2106 F150 squeak</td>\n",
       "    </tr>\n",
       "    <tr>\n",
       "      <th>2</th>\n",
       "      <td>ADR86\\n08-23-2017, 02:28 PM</td>\n",
       "      <td>http://www.f150ecoboost.net/forum/68-2016-ford...</td>\n",
       "      <td>Replies: 1\\nViews: 60</td>\n",
       "      <td>Air Conditioning hiccup</td>\n",
       "    </tr>\n",
       "    <tr>\n",
       "      <th>3</th>\n",
       "      <td>Quinnford\\n08-17-2017, 12:19 PM</td>\n",
       "      <td>http://www.f150ecoboost.net/forum/68-2016-ford...</td>\n",
       "      <td>Replies: 3\\nViews: 163</td>\n",
       "      <td>Foam Cover Purpose?</td>\n",
       "    </tr>\n",
       "    <tr>\n",
       "      <th>4</th>\n",
       "      <td>magnum force\\n08-10-2017, 07:17 AM</td>\n",
       "      <td>http://www.f150ecoboost.net/forum/68-2016-ford...</td>\n",
       "      <td>Replies: 9\\nViews: 257</td>\n",
       "      <td>Speedometer and cruise don't match up</td>\n",
       "    </tr>\n",
       "  </tbody>\n",
       "</table>\n",
       "</div>"
      ],
      "text/plain": [
       "                       last_post_date  \\\n",
       "0          Bruno2016\\nToday, 02:53 PM   \n",
       "1       nineunbuffed\\nToday, 07:45 AM   \n",
       "2         ADR86\\n08-23-2017, 02:28 PM   \n",
       "3     Quinnford\\n08-17-2017, 12:19 PM   \n",
       "4  magnum force\\n08-10-2017, 07:17 AM   \n",
       "\n",
       "                                                link                    stats  \\\n",
       "0  http://www.f150ecoboost.net/forum/68-2016-ford...  Replies: 18\\nViews: 446   \n",
       "1  http://www.f150ecoboost.net/forum/68-2016-ford...    Replies: 1\\nViews: 39   \n",
       "2  http://www.f150ecoboost.net/forum/68-2016-ford...    Replies: 1\\nViews: 60   \n",
       "3  http://www.f150ecoboost.net/forum/68-2016-ford...   Replies: 3\\nViews: 163   \n",
       "4  http://www.f150ecoboost.net/forum/68-2016-ford...   Replies: 9\\nViews: 257   \n",
       "\n",
       "                                               title  \n",
       "0  Lets hear from the happy 2.7 owners that have ...  \n",
       "1                                   2106 F150 squeak  \n",
       "2                            Air Conditioning hiccup  \n",
       "3                                Foam Cover Purpose?  \n",
       "4              Speedometer and cruise don't match up  "
      ]
     },
     "execution_count": 6,
     "metadata": {},
     "output_type": "execute_result"
    }
   ],
   "source": [
    "data.head()"
   ]
  },
  {
   "cell_type": "code",
   "execution_count": null,
   "metadata": {
    "collapsed": true
   },
   "outputs": [],
   "source": []
  }
 ],
 "metadata": {
  "kernelspec": {
   "display_name": "Python 3",
   "language": "python",
   "name": "python3"
  },
  "language_info": {
   "codemirror_mode": {
    "name": "ipython",
    "version": 3
   },
   "file_extension": ".py",
   "mimetype": "text/x-python",
   "name": "python",
   "nbconvert_exporter": "python",
   "pygments_lexer": "ipython3",
   "version": "3.6.1"
  }
 },
 "nbformat": 4,
 "nbformat_minor": 2
}
