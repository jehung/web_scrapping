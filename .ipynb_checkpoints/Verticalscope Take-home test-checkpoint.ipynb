{
 "cells": [
  {
   "cell_type": "markdown",
   "metadata": {},
   "source": [
    "# Goal: To scrap a forum website for the following:\n",
    "\n",
    "- `link_to_thread`\n",
    "\n",
    "- `name_of_thread`\n",
    "\n",
    "- `views, replies`\n",
    "\n",
    "- `last_post_time`\n",
    "\n",
    "- `last_post_date`\n",
    "\n",
    "and save the result to a .csv file\n",
    "\n"
   ]
  },
  {
   "cell_type": "markdown",
   "metadata": {},
   "source": [
    "### Note:\n",
    "\n",
    "- This script is built based on Ford F150 Ecoboost forum, and should be able to handle 2015-2017 forums.\n",
    "\n",
    "- The scripts takes into account the situation where a post is **moved**, which can result in a situation where a post has title but has no stats on last post date, time, reply counts and view counts. \n",
    "\n",
    "- This script is built to product the top 100 posts based on population, namely, views and replies. However, I have also written a function that can either take just one of these inputs (either Repleis or Views), or both, in order to sort the posts by popularity. \n",
    "\n",
    "- Due to the dynamic nature of the forum sites, it is possible that when this script is run, the website happened to be updated at the same time. If this indeed happens, please re-run the script. This is because the dictionary might end up being of different length, and hence not being able to conver to a dataframe. But re-running the script will resolve this issue.\n"
   ]
  },
  {
   "cell_type": "code",
   "execution_count": 1,
   "metadata": {
    "collapsed": true
   },
   "outputs": [],
   "source": [
    "import time\n",
    "import datetime\n",
    "import pandas as pd\n",
    "from selenium import webdriver\n",
    "from selenium.webdriver.support.ui import WebDriverWait"
   ]
  },
  {
   "cell_type": "code",
   "execution_count": 2,
   "metadata": {
    "collapsed": true
   },
   "outputs": [],
   "source": [
    "def init_driver():\n",
    "    driver = webdriver.Chrome()\n",
    "    driver.maximize_window()\n",
    "    driver.wait = WebDriverWait(driver, 3)\n",
    "    return driver"
   ]
  },
  {
   "cell_type": "code",
   "execution_count": 3,
   "metadata": {
    "collapsed": true
   },
   "outputs": [],
   "source": [
    "def lookup(driver):\n",
    "    post_dict = {'link': [], 'title': [], 'stats': [], 'last_post_stats': []}\n",
    "    #driver.get('http://www.f150ecoboost.net/forum/68-2016-ford-f150-ecoboost-chat')\n",
    "    driver.get('http://www.f150ecoboost.net/forum/42-2015-ford-f150-ecoboost-chat')\n",
    "    counter1 = 0\n",
    "\n",
    "    while True:\n",
    "        try:\n",
    "            driver.find_element_by_xpath('''//*[@id=\"yui-gen11\"]''').click()\n",
    "            posts = driver.find_elements_by_xpath('''.//*[@id='threads']''')\n",
    "            for post in posts:\n",
    "                titles = post.find_elements_by_xpath('''//a[@class='title']''')\n",
    "                for title in titles:\n",
    "                    # print(title.text)\n",
    "                    post_dict['title'].append(title.text)\n",
    "                    # print(title.get_attribute('href'))\n",
    "                    post_dict['link'].append(title.get_attribute('href'))\n",
    "                subs_stats = post.find_elements_by_xpath('''.//*[@class='threadstats td alt']''')\n",
    "                for sub_stats in subs_stats:\n",
    "                    # print(sub_stats.text)\n",
    "                    if sub_stats.text != '&nbsp;':\n",
    "                        post_dict['stats'].append(sub_stats.text)\n",
    "                subs_dates = post.find_elements_by_xpath('''.//*[@class='threadlastpost td']''')\n",
    "                for sub_dates in subs_dates:\n",
    "                    # print(sub_dates.text)\n",
    "                    if sub_dates.text != '&nbsp;':\n",
    "                        post_dict['last_post_stats'].append(sub_dates.text)\n",
    "                counter1 += 1\n",
    "            print(counter1)\n",
    "            print(driver.current_url)\n",
    "            page = driver.find_element_by_xpath('''//img[@alt='Next']''')\n",
    "            page.click()\n",
    "        except:\n",
    "            return post_dict\n",
    "    "
   ]
  },
  {
   "cell_type": "code",
   "execution_count": 4,
   "metadata": {},
   "outputs": [],
   "source": [
    "def process_df(post_dict):\n",
    "    post_dict['last_post_datetime'] = (post_dict.last_post_stats.apply(lambda x:x.split('\\n'))).str[1]\n",
    "    post_dict['Last_post_date'] = (post_dict.last_post_datetime.str.split(', ')).str[0]\n",
    "    post_dict['Last_post_time'] = (post_dict.last_post_datetime.str.split(', ')).str[1]\n",
    "\n",
    "    #post_dict.Last_post_date = post_dict.Last_post_date.apply(\n",
    "    #    lambda x: datetime.datetime.strptime(x, '%m-%d-%Y') if x not in ('Yesterday', 'Today') else x)\n",
    "    #post_dict.Last_post_time = post_dict.Last_post_time.apply(\n",
    "    #    lambda x: (time.strftime('%H:%M', time.strptime(x, '%I:%M %p'))))\n",
    "\n",
    "    #post_dict['repliesString'] = post_dict.stats.apply(lambda x: (x.split('\\n'))[0])#.split(':')[1])\n",
    "    #post_dict['Replies'] = post_dict.repliesString.str.split(':').str[1]\n",
    "    post_dict['repliesViews'] = post_dict.stats.apply(lambda x: x.replace(',',''))\n",
    "    post_dict['counts'] = post_dict.repliesViews.apply(lambda x:[int(s) for s in x.split() if s.isdigit()])\n",
    "    post_dict['Replies'] = post_dict.counts.str[0]\n",
    "    post_dict['Views'] = post_dict.counts.str[1]\n",
    "    #post_dict['Views'] = post_dict.stats.apply(lambda x: (x.split('\\n'))[1])#.split(':')[1])\n",
    "    #post_dict['Views'] = post_dict.stats.apply(lambda x: (x.split('\\n'))[1].split(':')[1])\n",
    "    post_dict.drop(['last_post_stats', 'stats', 'last_post_datetime', 'repliesViews', 'counts'], axis=1, inplace=True)\n",
    "\n",
    "    return post_dict"
   ]
  },
  {
   "cell_type": "code",
   "execution_count": 5,
   "metadata": {
    "collapsed": true
   },
   "outputs": [],
   "source": [
    "def sort_values_by(df, by, ascending):\n",
    "    sorted_df = df.sort_values(by=by, ascending=ascending)\n",
    "    return sorted_df"
   ]
  },
  {
   "cell_type": "code",
   "execution_count": 6,
   "metadata": {},
   "outputs": [
    {
     "name": "stdout",
     "output_type": "stream",
     "text": [
      "1\n",
      "http://www.f150ecoboost.net/forum/42-2015-ford-f150-ecoboost-chat\n",
      "2\n",
      "http://www.f150ecoboost.net/forum/42-2015-ford-f150-ecoboost-chat/index2.html\n",
      "3\n",
      "http://www.f150ecoboost.net/forum/42-2015-ford-f150-ecoboost-chat/index3.html\n",
      "4\n",
      "http://www.f150ecoboost.net/forum/42-2015-ford-f150-ecoboost-chat/index4.html\n",
      "5\n",
      "http://www.f150ecoboost.net/forum/42-2015-ford-f150-ecoboost-chat/index5.html\n",
      "6\n",
      "http://www.f150ecoboost.net/forum/42-2015-ford-f150-ecoboost-chat/index6.html\n",
      "7\n",
      "http://www.f150ecoboost.net/forum/42-2015-ford-f150-ecoboost-chat/index7.html\n",
      "8\n",
      "http://www.f150ecoboost.net/forum/42-2015-ford-f150-ecoboost-chat/index8.html\n",
      "9\n",
      "http://www.f150ecoboost.net/forum/42-2015-ford-f150-ecoboost-chat/index9.html\n",
      "10\n",
      "http://www.f150ecoboost.net/forum/42-2015-ford-f150-ecoboost-chat/index10.html\n",
      "11\n",
      "http://www.f150ecoboost.net/forum/42-2015-ford-f150-ecoboost-chat/index11.html\n",
      "12\n",
      "http://www.f150ecoboost.net/forum/42-2015-ford-f150-ecoboost-chat/index12.html\n",
      "13\n",
      "http://www.f150ecoboost.net/forum/42-2015-ford-f150-ecoboost-chat/index13.html\n",
      "14\n",
      "http://www.f150ecoboost.net/forum/42-2015-ford-f150-ecoboost-chat/index14.html\n",
      "15\n",
      "http://www.f150ecoboost.net/forum/42-2015-ford-f150-ecoboost-chat/index15.html\n",
      "16\n",
      "http://www.f150ecoboost.net/forum/42-2015-ford-f150-ecoboost-chat/index16.html\n",
      "17\n",
      "http://www.f150ecoboost.net/forum/42-2015-ford-f150-ecoboost-chat/index17.html\n",
      "18\n",
      "http://www.f150ecoboost.net/forum/42-2015-ford-f150-ecoboost-chat/index18.html\n",
      "19\n",
      "http://www.f150ecoboost.net/forum/42-2015-ford-f150-ecoboost-chat/index19.html\n",
      "20\n",
      "http://www.f150ecoboost.net/forum/42-2015-ford-f150-ecoboost-chat/index20.html\n",
      "21\n",
      "http://www.f150ecoboost.net/forum/42-2015-ford-f150-ecoboost-chat/index21.html\n",
      "22\n",
      "http://www.f150ecoboost.net/forum/42-2015-ford-f150-ecoboost-chat/index22.html\n",
      "23\n",
      "http://www.f150ecoboost.net/forum/42-2015-ford-f150-ecoboost-chat/index23.html\n",
      "24\n",
      "http://www.f150ecoboost.net/forum/42-2015-ford-f150-ecoboost-chat/index24.html\n",
      "25\n",
      "http://www.f150ecoboost.net/forum/42-2015-ford-f150-ecoboost-chat/index25.html\n",
      "26\n",
      "http://www.f150ecoboost.net/forum/42-2015-ford-f150-ecoboost-chat/index26.html\n",
      "27\n",
      "http://www.f150ecoboost.net/forum/42-2015-ford-f150-ecoboost-chat/index27.html\n",
      "28\n",
      "http://www.f150ecoboost.net/forum/42-2015-ford-f150-ecoboost-chat/index28.html\n",
      "29\n",
      "http://www.f150ecoboost.net/forum/42-2015-ford-f150-ecoboost-chat/index29.html\n"
     ]
    }
   ],
   "source": [
    "driver = init_driver()\n",
    "data = lookup(driver)\n",
    "time.sleep(5)\n",
    "driver.quit()"
   ]
  },
  {
   "cell_type": "code",
   "execution_count": 7,
   "metadata": {},
   "outputs": [],
   "source": [
    "data = pd.DataFrame.from_dict(data)"
   ]
  },
  {
   "cell_type": "code",
   "execution_count": 8,
   "metadata": {},
   "outputs": [
    {
     "name": "stdout",
     "output_type": "stream",
     "text": [
      "last_post_stats\n",
      "578\n",
      "link\n",
      "578\n",
      "stats\n",
      "578\n",
      "title\n",
      "578\n"
     ]
    }
   ],
   "source": [
    "for e in data:\n",
    "    print(e)\n",
    "    print(len(data[e]))"
   ]
  },
  {
   "cell_type": "code",
   "execution_count": 9,
   "metadata": {},
   "outputs": [
    {
     "data": {
      "text/html": [
       "<div>\n",
       "<style>\n",
       "    .dataframe thead tr:only-child th {\n",
       "        text-align: right;\n",
       "    }\n",
       "\n",
       "    .dataframe thead th {\n",
       "        text-align: left;\n",
       "    }\n",
       "\n",
       "    .dataframe tbody tr th {\n",
       "        vertical-align: top;\n",
       "    }\n",
       "</style>\n",
       "<table border=\"1\" class=\"dataframe\">\n",
       "  <thead>\n",
       "    <tr style=\"text-align: right;\">\n",
       "      <th></th>\n",
       "      <th>last_post_stats</th>\n",
       "      <th>link</th>\n",
       "      <th>stats</th>\n",
       "      <th>title</th>\n",
       "    </tr>\n",
       "  </thead>\n",
       "  <tbody>\n",
       "    <tr>\n",
       "      <th>0</th>\n",
       "      <td>SSGTTJ\\nYesterday, 06:53 AM</td>\n",
       "      <td>http://www.f150ecoboost.net/forum/42-2015-ford...</td>\n",
       "      <td>Replies: 1,587\\nViews: 91,300</td>\n",
       "      <td>What did you do to your truck today?</td>\n",
       "    </tr>\n",
       "    <tr>\n",
       "      <th>1</th>\n",
       "      <td>johnsnowkornar\\n08-25-2017, 12:03 PM</td>\n",
       "      <td>http://www.f150ecoboost.net/forum/42-2015-ford...</td>\n",
       "      <td>Replies: 15\\nViews: 10,052</td>\n",
       "      <td>Bed Liners for the Aluminum F150</td>\n",
       "    </tr>\n",
       "    <tr>\n",
       "      <th>2</th>\n",
       "      <td>Sir_Boosted\\n08-24-2017, 12:40 PM</td>\n",
       "      <td>http://www.f150ecoboost.net/forum/42-2015-ford...</td>\n",
       "      <td>Replies: 8\\nViews: 1,448</td>\n",
       "      <td>Lower Active Grill Shutters = CAC Condensation...</td>\n",
       "    </tr>\n",
       "    <tr>\n",
       "      <th>3</th>\n",
       "      <td>jjc155\\n08-24-2017, 12:51 AM</td>\n",
       "      <td>http://www.f150ecoboost.net/forum/42-2015-ford...</td>\n",
       "      <td>Replies: 17\\nViews: 942</td>\n",
       "      <td>Blown motor</td>\n",
       "    </tr>\n",
       "    <tr>\n",
       "      <th>4</th>\n",
       "      <td>dwrenchz\\n08-21-2017, 03:55 PM</td>\n",
       "      <td>http://www.f150ecoboost.net/forum/42-2015-ford...</td>\n",
       "      <td>Replies: 0\\nViews: 101</td>\n",
       "      <td>My real life mpg</td>\n",
       "    </tr>\n",
       "  </tbody>\n",
       "</table>\n",
       "</div>"
      ],
      "text/plain": [
       "                        last_post_stats  \\\n",
       "0           SSGTTJ\\nYesterday, 06:53 AM   \n",
       "1  johnsnowkornar\\n08-25-2017, 12:03 PM   \n",
       "2     Sir_Boosted\\n08-24-2017, 12:40 PM   \n",
       "3          jjc155\\n08-24-2017, 12:51 AM   \n",
       "4        dwrenchz\\n08-21-2017, 03:55 PM   \n",
       "\n",
       "                                                link  \\\n",
       "0  http://www.f150ecoboost.net/forum/42-2015-ford...   \n",
       "1  http://www.f150ecoboost.net/forum/42-2015-ford...   \n",
       "2  http://www.f150ecoboost.net/forum/42-2015-ford...   \n",
       "3  http://www.f150ecoboost.net/forum/42-2015-ford...   \n",
       "4  http://www.f150ecoboost.net/forum/42-2015-ford...   \n",
       "\n",
       "                           stats  \\\n",
       "0  Replies: 1,587\\nViews: 91,300   \n",
       "1     Replies: 15\\nViews: 10,052   \n",
       "2       Replies: 8\\nViews: 1,448   \n",
       "3        Replies: 17\\nViews: 942   \n",
       "4         Replies: 0\\nViews: 101   \n",
       "\n",
       "                                               title  \n",
       "0               What did you do to your truck today?  \n",
       "1                   Bed Liners for the Aluminum F150  \n",
       "2  Lower Active Grill Shutters = CAC Condensation...  \n",
       "3                                        Blown motor  \n",
       "4                                   My real life mpg  "
      ]
     },
     "execution_count": 9,
     "metadata": {},
     "output_type": "execute_result"
    }
   ],
   "source": [
    "data.head()"
   ]
  },
  {
   "cell_type": "code",
   "execution_count": 10,
   "metadata": {},
   "outputs": [],
   "source": [
    "data = process_df(data)"
   ]
  },
  {
   "cell_type": "code",
   "execution_count": 11,
   "metadata": {},
   "outputs": [
    {
     "data": {
      "text/html": [
       "<div>\n",
       "<style>\n",
       "    .dataframe thead tr:only-child th {\n",
       "        text-align: right;\n",
       "    }\n",
       "\n",
       "    .dataframe thead th {\n",
       "        text-align: left;\n",
       "    }\n",
       "\n",
       "    .dataframe tbody tr th {\n",
       "        vertical-align: top;\n",
       "    }\n",
       "</style>\n",
       "<table border=\"1\" class=\"dataframe\">\n",
       "  <thead>\n",
       "    <tr style=\"text-align: right;\">\n",
       "      <th></th>\n",
       "      <th>link</th>\n",
       "      <th>title</th>\n",
       "      <th>Last_post_date</th>\n",
       "      <th>Last_post_time</th>\n",
       "      <th>Replies</th>\n",
       "      <th>Views</th>\n",
       "    </tr>\n",
       "  </thead>\n",
       "  <tbody>\n",
       "    <tr>\n",
       "      <th>0</th>\n",
       "      <td>http://www.f150ecoboost.net/forum/42-2015-ford...</td>\n",
       "      <td>What did you do to your truck today?</td>\n",
       "      <td>Yesterday</td>\n",
       "      <td>06:53 AM</td>\n",
       "      <td>1587.0</td>\n",
       "      <td>91300.0</td>\n",
       "    </tr>\n",
       "    <tr>\n",
       "      <th>1</th>\n",
       "      <td>http://www.f150ecoboost.net/forum/42-2015-ford...</td>\n",
       "      <td>Bed Liners for the Aluminum F150</td>\n",
       "      <td>08-25-2017</td>\n",
       "      <td>12:03 PM</td>\n",
       "      <td>15.0</td>\n",
       "      <td>10052.0</td>\n",
       "    </tr>\n",
       "    <tr>\n",
       "      <th>2</th>\n",
       "      <td>http://www.f150ecoboost.net/forum/42-2015-ford...</td>\n",
       "      <td>Lower Active Grill Shutters = CAC Condensation...</td>\n",
       "      <td>08-24-2017</td>\n",
       "      <td>12:40 PM</td>\n",
       "      <td>8.0</td>\n",
       "      <td>1448.0</td>\n",
       "    </tr>\n",
       "    <tr>\n",
       "      <th>3</th>\n",
       "      <td>http://www.f150ecoboost.net/forum/42-2015-ford...</td>\n",
       "      <td>Blown motor</td>\n",
       "      <td>08-24-2017</td>\n",
       "      <td>12:51 AM</td>\n",
       "      <td>17.0</td>\n",
       "      <td>942.0</td>\n",
       "    </tr>\n",
       "    <tr>\n",
       "      <th>4</th>\n",
       "      <td>http://www.f150ecoboost.net/forum/42-2015-ford...</td>\n",
       "      <td>My real life mpg</td>\n",
       "      <td>08-21-2017</td>\n",
       "      <td>03:55 PM</td>\n",
       "      <td>0.0</td>\n",
       "      <td>101.0</td>\n",
       "    </tr>\n",
       "  </tbody>\n",
       "</table>\n",
       "</div>"
      ],
      "text/plain": [
       "                                                link  \\\n",
       "0  http://www.f150ecoboost.net/forum/42-2015-ford...   \n",
       "1  http://www.f150ecoboost.net/forum/42-2015-ford...   \n",
       "2  http://www.f150ecoboost.net/forum/42-2015-ford...   \n",
       "3  http://www.f150ecoboost.net/forum/42-2015-ford...   \n",
       "4  http://www.f150ecoboost.net/forum/42-2015-ford...   \n",
       "\n",
       "                                               title Last_post_date  \\\n",
       "0               What did you do to your truck today?      Yesterday   \n",
       "1                   Bed Liners for the Aluminum F150     08-25-2017   \n",
       "2  Lower Active Grill Shutters = CAC Condensation...     08-24-2017   \n",
       "3                                        Blown motor     08-24-2017   \n",
       "4                                   My real life mpg     08-21-2017   \n",
       "\n",
       "  Last_post_time  Replies    Views  \n",
       "0       06:53 AM   1587.0  91300.0  \n",
       "1       12:03 PM     15.0  10052.0  \n",
       "2       12:40 PM      8.0   1448.0  \n",
       "3       12:51 AM     17.0    942.0  \n",
       "4       03:55 PM      0.0    101.0  "
      ]
     },
     "execution_count": 11,
     "metadata": {},
     "output_type": "execute_result"
    }
   ],
   "source": [
    "data.head()"
   ]
  },
  {
   "cell_type": "markdown",
   "metadata": {},
   "source": [
    "#### Below, I have used the osrt_valaue_by() function defined above to sort the result\n",
    "\n",
    "Note that you can switch the order of the input list to have the results sorted in different order."
   ]
  },
  {
   "cell_type": "code",
   "execution_count": 12,
   "metadata": {},
   "outputs": [],
   "source": [
    "sorted_data = sort_values_by(data, ['Replies','Views'], [False,False])"
   ]
  },
  {
   "cell_type": "code",
   "execution_count": 13,
   "metadata": {},
   "outputs": [
    {
     "data": {
      "text/plain": [
       "pandas.core.frame.DataFrame"
      ]
     },
     "execution_count": 13,
     "metadata": {},
     "output_type": "execute_result"
    }
   ],
   "source": [
    "sorted_data.head()\n",
    "type(sorted_data)"
   ]
  },
  {
   "cell_type": "markdown",
   "metadata": {},
   "source": [
    "Another use case of the function is demonstrated below."
   ]
  },
  {
   "cell_type": "code",
   "execution_count": 14,
   "metadata": {
    "collapsed": true
   },
   "outputs": [],
   "source": [
    "another = sorted_data.groupby('Last_post_date').apply(pd.DataFrame.sort_values, 'Replies')"
   ]
  },
  {
   "cell_type": "code",
   "execution_count": 15,
   "metadata": {},
   "outputs": [
    {
     "data": {
      "text/html": [
       "<div>\n",
       "<style>\n",
       "    .dataframe thead tr:only-child th {\n",
       "        text-align: right;\n",
       "    }\n",
       "\n",
       "    .dataframe thead th {\n",
       "        text-align: left;\n",
       "    }\n",
       "\n",
       "    .dataframe tbody tr th {\n",
       "        vertical-align: top;\n",
       "    }\n",
       "</style>\n",
       "<table border=\"1\" class=\"dataframe\">\n",
       "  <thead>\n",
       "    <tr style=\"text-align: right;\">\n",
       "      <th></th>\n",
       "      <th></th>\n",
       "      <th>link</th>\n",
       "      <th>title</th>\n",
       "      <th>Last_post_date</th>\n",
       "      <th>Last_post_time</th>\n",
       "      <th>Replies</th>\n",
       "      <th>Views</th>\n",
       "    </tr>\n",
       "    <tr>\n",
       "      <th>Last_post_date</th>\n",
       "      <th></th>\n",
       "      <th></th>\n",
       "      <th></th>\n",
       "      <th></th>\n",
       "      <th></th>\n",
       "      <th></th>\n",
       "      <th></th>\n",
       "    </tr>\n",
       "  </thead>\n",
       "  <tbody>\n",
       "    <tr>\n",
       "      <th>01-03-2015</th>\n",
       "      <th>483</th>\n",
       "      <td>http://www.f150ecoboost.net/forum/42-2015-ford...</td>\n",
       "      <td>Motor Trend Idiocy - Chev#$^*let Colorado 2015...</td>\n",
       "      <td>01-03-2015</td>\n",
       "      <td>03:34 PM</td>\n",
       "      <td>10.0</td>\n",
       "      <td>1589.0</td>\n",
       "    </tr>\n",
       "    <tr>\n",
       "      <th>01-04-2017</th>\n",
       "      <th>56</th>\n",
       "      <td>http://www.f150ecoboost.net/forum/42-2015-ford...</td>\n",
       "      <td>door handles</td>\n",
       "      <td>01-04-2017</td>\n",
       "      <td>12:54 PM</td>\n",
       "      <td>10.0</td>\n",
       "      <td>755.0</td>\n",
       "    </tr>\n",
       "    <tr>\n",
       "      <th>01-05-2016</th>\n",
       "      <th>241</th>\n",
       "      <td>http://www.f150ecoboost.net/forum/42-2015-ford...</td>\n",
       "      <td>2015 2.7 Eco 4x4 with electrical issues</td>\n",
       "      <td>01-05-2016</td>\n",
       "      <td>10:56 AM</td>\n",
       "      <td>15.0</td>\n",
       "      <td>1721.0</td>\n",
       "    </tr>\n",
       "    <tr>\n",
       "      <th>01-06-2017</th>\n",
       "      <th>55</th>\n",
       "      <td>http://www.f150ecoboost.net/forum/42-2015-ford...</td>\n",
       "      <td>Spark Plug change results in misfire that can'...</td>\n",
       "      <td>01-06-2017</td>\n",
       "      <td>02:41 PM</td>\n",
       "      <td>39.0</td>\n",
       "      <td>2444.0</td>\n",
       "    </tr>\n",
       "    <tr>\n",
       "      <th>01-09-2015</th>\n",
       "      <th>482</th>\n",
       "      <td>http://www.f150ecoboost.net/forum/42-2015-ford...</td>\n",
       "      <td>Car and Driver mostly positive on the 2015</td>\n",
       "      <td>01-09-2015</td>\n",
       "      <td>04:01 PM</td>\n",
       "      <td>3.0</td>\n",
       "      <td>837.0</td>\n",
       "    </tr>\n",
       "  </tbody>\n",
       "</table>\n",
       "</div>"
      ],
      "text/plain": [
       "                                                                 link  \\\n",
       "Last_post_date                                                          \n",
       "01-03-2015     483  http://www.f150ecoboost.net/forum/42-2015-ford...   \n",
       "01-04-2017     56   http://www.f150ecoboost.net/forum/42-2015-ford...   \n",
       "01-05-2016     241  http://www.f150ecoboost.net/forum/42-2015-ford...   \n",
       "01-06-2017     55   http://www.f150ecoboost.net/forum/42-2015-ford...   \n",
       "01-09-2015     482  http://www.f150ecoboost.net/forum/42-2015-ford...   \n",
       "\n",
       "                                                                title  \\\n",
       "Last_post_date                                                          \n",
       "01-03-2015     483  Motor Trend Idiocy - Chev#$^*let Colorado 2015...   \n",
       "01-04-2017     56                                        door handles   \n",
       "01-05-2016     241            2015 2.7 Eco 4x4 with electrical issues   \n",
       "01-06-2017     55   Spark Plug change results in misfire that can'...   \n",
       "01-09-2015     482         Car and Driver mostly positive on the 2015   \n",
       "\n",
       "                   Last_post_date Last_post_time  Replies   Views  \n",
       "Last_post_date                                                     \n",
       "01-03-2015     483     01-03-2015       03:34 PM     10.0  1589.0  \n",
       "01-04-2017     56      01-04-2017       12:54 PM     10.0   755.0  \n",
       "01-05-2016     241     01-05-2016       10:56 AM     15.0  1721.0  \n",
       "01-06-2017     55      01-06-2017       02:41 PM     39.0  2444.0  \n",
       "01-09-2015     482     01-09-2015       04:01 PM      3.0   837.0  "
      ]
     },
     "execution_count": 15,
     "metadata": {},
     "output_type": "execute_result"
    }
   ],
   "source": [
    "another.head()"
   ]
  },
  {
   "cell_type": "code",
   "execution_count": 18,
   "metadata": {},
   "outputs": [],
   "source": [
    "sorted_data.to_csv('Top100_Posts.csv')"
   ]
  },
  {
   "cell_type": "code",
   "execution_count": null,
   "metadata": {
    "collapsed": true
   },
   "outputs": [],
   "source": []
  }
 ],
 "metadata": {
  "kernelspec": {
   "display_name": "Python 3",
   "language": "python",
   "name": "python3"
  },
  "language_info": {
   "codemirror_mode": {
    "name": "ipython",
    "version": 3
   },
   "file_extension": ".py",
   "mimetype": "text/x-python",
   "name": "python",
   "nbconvert_exporter": "python",
   "pygments_lexer": "ipython3",
   "version": "3.6.1"
  }
 },
 "nbformat": 4,
 "nbformat_minor": 2
}
