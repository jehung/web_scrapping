{
 "cells": [
  {
   "cell_type": "code",
   "execution_count": 1,
   "metadata": {
    "collapsed": true
   },
   "outputs": [],
   "source": [
    "import time\n",
    "import pandas as pd\n",
    "from selenium import webdriver\n",
    "from selenium.webdriver.common.by import By\n",
    "from selenium.webdriver.support.ui import WebDriverWait\n",
    "from selenium.webdriver.support import expected_conditions as EC\n",
    "from selenium.common.exceptions import TimeoutException\n",
    "from selenium.common.exceptions import NoSuchElementException"
   ]
  },
  {
   "cell_type": "code",
   "execution_count": 2,
   "metadata": {
    "collapsed": true
   },
   "outputs": [],
   "source": [
    "def init_driver():\n",
    "    driver = webdriver.Chrome()\n",
    "    driver.wait = WebDriverWait(driver, 3)\n",
    "    return driver"
   ]
  },
  {
   "cell_type": "code",
   "execution_count": 3,
   "metadata": {
    "collapsed": true
   },
   "outputs": [],
   "source": [
    "def lookup(driver):\n",
    "    post_dict =  {'link':[], 'title':[], 'stats':[], 'last_post_date':[]}\n",
    "    driver.get('http://www.f150ecoboost.net/forum/68-2016-ford-f150-ecoboost-chat')\n",
    "    driver.find_element_by_xpath('''//*[@id=\"yui-gen11\"]''').click()\n",
    "    counter1 = 0\n",
    "    counter2 = 0\n",
    "    counter3 = 0\n",
    "    page_number = 1\n",
    "\n",
    "    while page_number==1:\n",
    "        try:\n",
    "            link = driver.find_element_by_link_text(str(page_number))\n",
    "        except NoSuchElementException:\n",
    "            break\n",
    "\n",
    "        posts = driver.find_elements_by_class_name('threadtitle')\n",
    "        for post in posts:\n",
    "            #print(post.find_element_by_css_selector('a').get_attribute('href'))\n",
    "            post_dict['link'].append(post.find_element_by_css_selector('a').get_attribute('href'))\n",
    "            #print(post.text)\n",
    "            post_dict['title'].append(post.text)\n",
    "            counter1 += 1\n",
    "        print(counter1)\n",
    "\n",
    "        #stats_h = driver.find_elements_by_xpath('''//*[@class='threadstats td']''')\n",
    "        post_dict['stats'].append(driver.find_elements_by_xpath('''//*[@class='threadstats td']'''))\n",
    "        counter2 += 1\n",
    "        stats = driver.find_elements_by_xpath('''//*[@class='threadstats td alt']''')\n",
    "        for stat in stats:\n",
    "            #print(stat.text)\n",
    "            post_dict['stats'].append(stat.text)\n",
    "            counter2 += 1\n",
    "        print(counter2)\n",
    "\n",
    "        postdates = driver.find_elements_by_xpath('''//*[@class='threadlastpost td']''')\n",
    "        for postdate in postdates:\n",
    "            #print(postdate.text)\n",
    "            post_dict['last_post_date'].append(postdate.text.split(','))\n",
    "            counter3 += 1\n",
    "        print(counter3)\n",
    "\n",
    "        link.click()\n",
    "        print(driver.current_url)\n",
    "        page_number += 1\n",
    "\n",
    "    return post_dict"
   ]
  },
  {
   "cell_type": "code",
   "execution_count": 4,
   "metadata": {},
   "outputs": [
    {
     "name": "stdout",
     "output_type": "stream",
     "text": [
      "21\n",
      "21\n",
      "21\n",
      "http://www.f150ecoboost.net/forum/68-2016-ford-f150-ecoboost-chat\n"
     ]
    }
   ],
   "source": [
    "driver = init_driver()\n",
    "data = lookup(driver)"
   ]
  },
  {
   "cell_type": "code",
   "execution_count": 5,
   "metadata": {
    "collapsed": true
   },
   "outputs": [],
   "source": [
    "data = pd.DataFrame.from_dict(data)"
   ]
  },
  {
   "cell_type": "code",
   "execution_count": 6,
   "metadata": {},
   "outputs": [
    {
     "data": {
      "text/html": [
       "<div>\n",
       "<style>\n",
       "    .dataframe thead tr:only-child th {\n",
       "        text-align: right;\n",
       "    }\n",
       "\n",
       "    .dataframe thead th {\n",
       "        text-align: left;\n",
       "    }\n",
       "\n",
       "    .dataframe tbody tr th {\n",
       "        vertical-align: top;\n",
       "    }\n",
       "</style>\n",
       "<table border=\"1\" class=\"dataframe\">\n",
       "  <thead>\n",
       "    <tr style=\"text-align: right;\">\n",
       "      <th></th>\n",
       "      <th>last_post_date</th>\n",
       "      <th>link</th>\n",
       "      <th>stats</th>\n",
       "      <th>title</th>\n",
       "    </tr>\n",
       "  </thead>\n",
       "  <tbody>\n",
       "    <tr>\n",
       "      <th>0</th>\n",
       "      <td>[LAST POST BY]</td>\n",
       "      <td>http://www.f150ecoboost.net/forum/68-2016-ford...</td>\n",
       "      <td>[&lt;selenium.webdriver.remote.webelement.WebElem...</td>\n",
       "      <td>TITLE / THREAD STARTER</td>\n",
       "    </tr>\n",
       "    <tr>\n",
       "      <th>1</th>\n",
       "      <td>[gsxrdoug\\nToday,  07:28 PM]</td>\n",
       "      <td>http://www.f150ecoboost.net/forum/68-2016-ford...</td>\n",
       "      <td>Replies: 16\\nViews: 415</td>\n",
       "      <td>Lets hear from the happy 2.7 owners that have ...</td>\n",
       "    </tr>\n",
       "    <tr>\n",
       "      <th>2</th>\n",
       "      <td>[ADR86\\nYesterday,  02:28 PM]</td>\n",
       "      <td>http://www.f150ecoboost.net/forum/68-2016-ford...</td>\n",
       "      <td>Replies: 1\\nViews: 57</td>\n",
       "      <td>Air Conditioning hiccup</td>\n",
       "    </tr>\n",
       "    <tr>\n",
       "      <th>3</th>\n",
       "      <td>[Tdog02\\n08-20-2017,  10:55 AM]</td>\n",
       "      <td>http://www.f150ecoboost.net/forum/68-2016-ford...</td>\n",
       "      <td>Replies: 92\\nViews: 19,984</td>\n",
       "      <td>2.7 EB long term updates (normal guy)</td>\n",
       "    </tr>\n",
       "    <tr>\n",
       "      <th>4</th>\n",
       "      <td>[Quinnford\\n08-17-2017,  12:19 PM]</td>\n",
       "      <td>http://www.f150ecoboost.net/forum/68-2016-ford...</td>\n",
       "      <td>Replies: 3\\nViews: 163</td>\n",
       "      <td>Foam Cover Purpose?</td>\n",
       "    </tr>\n",
       "  </tbody>\n",
       "</table>\n",
       "</div>"
      ],
      "text/plain": [
       "                       last_post_date  \\\n",
       "0                      [LAST POST BY]   \n",
       "1        [gsxrdoug\\nToday,  07:28 PM]   \n",
       "2       [ADR86\\nYesterday,  02:28 PM]   \n",
       "3     [Tdog02\\n08-20-2017,  10:55 AM]   \n",
       "4  [Quinnford\\n08-17-2017,  12:19 PM]   \n",
       "\n",
       "                                                link  \\\n",
       "0  http://www.f150ecoboost.net/forum/68-2016-ford...   \n",
       "1  http://www.f150ecoboost.net/forum/68-2016-ford...   \n",
       "2  http://www.f150ecoboost.net/forum/68-2016-ford...   \n",
       "3  http://www.f150ecoboost.net/forum/68-2016-ford...   \n",
       "4  http://www.f150ecoboost.net/forum/68-2016-ford...   \n",
       "\n",
       "                                               stats  \\\n",
       "0  [<selenium.webdriver.remote.webelement.WebElem...   \n",
       "1                            Replies: 16\\nViews: 415   \n",
       "2                              Replies: 1\\nViews: 57   \n",
       "3                         Replies: 92\\nViews: 19,984   \n",
       "4                             Replies: 3\\nViews: 163   \n",
       "\n",
       "                                               title  \n",
       "0                             TITLE / THREAD STARTER  \n",
       "1  Lets hear from the happy 2.7 owners that have ...  \n",
       "2                            Air Conditioning hiccup  \n",
       "3              2.7 EB long term updates (normal guy)  \n",
       "4                                Foam Cover Purpose?  "
      ]
     },
     "execution_count": 6,
     "metadata": {},
     "output_type": "execute_result"
    }
   ],
   "source": [
    "data.head()"
   ]
  },
  {
   "cell_type": "code",
   "execution_count": null,
   "metadata": {
    "collapsed": true
   },
   "outputs": [],
   "source": []
  }
 ],
 "metadata": {
  "kernelspec": {
   "display_name": "Python 3",
   "language": "python",
   "name": "python3"
  },
  "language_info": {
   "codemirror_mode": {
    "name": "ipython",
    "version": 3
   },
   "file_extension": ".py",
   "mimetype": "text/x-python",
   "name": "python",
   "nbconvert_exporter": "python",
   "pygments_lexer": "ipython3",
   "version": "3.6.1"
  }
 },
 "nbformat": 4,
 "nbformat_minor": 2
}
