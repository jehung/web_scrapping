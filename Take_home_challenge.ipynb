{
 "cells": [
  {
   "cell_type": "code",
   "execution_count": 1,
   "metadata": {
    "collapsed": true
   },
   "outputs": [],
   "source": [
    "import time\n",
    "import pandas as pd\n",
    "import numpy as np\n",
    "import datetime\n",
    "from selenium import webdriver\n",
    "from selenium.webdriver.support.ui import WebDriverWait\n",
    "from selenium.common.exceptions import NoSuchElementException"
   ]
  },
  {
   "cell_type": "code",
   "execution_count": 2,
   "metadata": {
    "collapsed": true
   },
   "outputs": [],
   "source": [
    "def init_driver():\n",
    "    driver = webdriver.Chrome()\n",
    "    driver.wait = WebDriverWait(driver, 3)\n",
    "    return driver"
   ]
  },
  {
   "cell_type": "code",
   "execution_count": 3,
   "metadata": {},
   "outputs": [],
   "source": [
    "def lookup(driver):\n",
    "    post_dict = {'link':[], 'title':[], 'stats':[], 'last_post_stats':[]}\n",
    "    driver.get('http://www.f150ecoboost.net/forum/68-2016-ford-f150-ecoboost-chat')\n",
    "    driver.find_element_by_xpath('''//*[@id=\"yui-gen11\"]''').click()\n",
    "    counter1 = 0\n",
    "    page_number = 1\n",
    "\n",
    "    while True:\n",
    "        try:\n",
    "            link = driver.find_element_by_link_text(str(page_number))\n",
    "            link.click()\n",
    "            print(driver.current_url)\n",
    "            page_number += 1\n",
    "            posts = driver.find_elements_by_xpath('''.//*[@id='threads']''')\n",
    "            for post in posts:\n",
    "                titles = post.find_elements_by_xpath('''.//a[@class='title']''')\n",
    "                for title in titles:\n",
    "                    #print(title.text)\n",
    "                    if page_number > 13:\n",
    "                        print(title.text)\n",
    "                    post_dict['title'].append(title.text)\n",
    "                    #print(title.get_attribute('href'))\n",
    "                    post_dict['link'].append(title.get_attribute('href'))\n",
    "                subs_stats = post.find_elements_by_xpath('''.//*[@class='threadstats td alt']''')\n",
    "                for sub_stats in subs_stats:\n",
    "                    #print(sub_stats.text)\n",
    "                    post_dict['stats'].append(sub_stats.text)\n",
    "                subs_dates = post.find_elements_by_xpath('''.//*[@class='threadlastpost td']''')\n",
    "                for sub_dates in subs_dates:\n",
    "                    #print(sub_dates.text)\n",
    "                    post_dict['last_post_stats'].append(sub_dates.text)\n",
    "                \n",
    "        except NoSuchElementException:\n",
    "            break\n",
    "\n",
    "    return post_dict"
   ]
  },
  {
   "cell_type": "code",
   "execution_count": 4,
   "metadata": {
    "collapsed": true
   },
   "outputs": [],
   "source": [
    "def process_df(post_dict):\n",
    "    post_dict['Last_post_date'] = post_dict.last_post_stats.apply(lambda x:(x.split(',')[0]).split('\\n')[1])\n",
    "    post_dict['Last_post_time'] = post_dict.last_post_stats.apply(lambda x: x.split(',')[1])\n",
    "    \n",
    "    post_dict.Last_post_date = post_dict.Last_post_date.apply(lambda x:datetime.datetime.strptime(x,'%m-%d-%Y') if x not in ('Yesterday','Today') else x)\n",
    "    post_dict.Last_post_time = post_dict.Last_post_time.apply(lambda x:(time.strftime('%H:%M',time.strptime(x,' %I:%M %p'))))\n",
    "                                                              \n",
    "    post_dict['Replies'] = post_dict.stats.apply(lambda x: int((x.split('\\n')[0]).split(':')[1].replace(',', '')))\n",
    "    post_dict['Views'] = post_dict.stats.apply(lambda x: int(((x.split('\\n')[1]).split(': ')[1]).replace(',','')))\n",
    "    post_dict.drop(['last_post_stats', 'stats'], axis=1, inplace=True)\n",
    "    \n",
    "    return post_dict"
   ]
  },
  {
   "cell_type": "code",
   "execution_count": 5,
   "metadata": {
    "collapsed": true
   },
   "outputs": [],
   "source": [
    "def sort_values_by(df, by, ascending):\n",
    "    sorted_df = df.sort_values(by=by, ascending=ascending)\n",
    "    return sorted_df"
   ]
  },
  {
   "cell_type": "code",
   "execution_count": 6,
   "metadata": {},
   "outputs": [
    {
     "name": "stdout",
     "output_type": "stream",
     "text": [
      "http://www.f150ecoboost.net/forum/68-2016-ford-f150-ecoboost-chat\n",
      "http://www.f150ecoboost.net/forum/68-2016-ford-f150-ecoboost-chat/index2.html\n",
      "http://www.f150ecoboost.net/forum/68-2016-ford-f150-ecoboost-chat/index3.html\n",
      "http://www.f150ecoboost.net/forum/68-2016-ford-f150-ecoboost-chat/index4.html\n",
      "http://www.f150ecoboost.net/forum/68-2016-ford-f150-ecoboost-chat/index5.html\n",
      "http://www.f150ecoboost.net/forum/68-2016-ford-f150-ecoboost-chat/index6.html\n",
      "http://www.f150ecoboost.net/forum/68-2016-ford-f150-ecoboost-chat/index7.html\n",
      "http://www.f150ecoboost.net/forum/68-2016-ford-f150-ecoboost-chat/index8.html\n",
      "http://www.f150ecoboost.net/forum/68-2016-ford-f150-ecoboost-chat/index9.html\n",
      "http://www.f150ecoboost.net/forum/68-2016-ford-f150-ecoboost-chat/index10.html\n",
      "http://www.f150ecoboost.net/forum/68-2016-ford-f150-ecoboost-chat/index11.html\n",
      "http://www.f150ecoboost.net/forum/68-2016-ford-f150-ecoboost-chat/index12.html\n",
      "http://www.f150ecoboost.net/forum/68-2016-ford-f150-ecoboost-chat/index13.html\n",
      "Picked up my new 2.7 Ecoboost today before the storm hits\n",
      "+1\n",
      "How do i clean out the inside of my fog light housing?\n",
      "2016 F150 Lariat\n",
      "Picked mine up yesterday\n",
      "Had to get her\n",
      "Console shifter to column ?\n",
      "Ford lets employees give out A/Z plan pin in Feb\n",
      "New member\n",
      "New member, purchasing first eco boost\n",
      "New to the Boost\n",
      "This section of the forum seems lonely...\n",
      "New Member with a 2016 F-150 3.5 Ecoboost.\n",
      "http://www.f150ecoboost.net/forum/68-2016-ford-f150-ecoboost-chat/index13.html\n",
      "Picked up my new 2.7 Ecoboost today before the storm hits\n",
      "+1\n",
      "How do i clean out the inside of my fog light housing?\n",
      "2016 F150 Lariat\n",
      "Picked mine up yesterday\n",
      "Had to get her\n",
      "Console shifter to column ?\n",
      "Ford lets employees give out A/Z plan pin in Feb\n",
      "New member\n",
      "New member, purchasing first eco boost\n",
      "New to the Boost\n",
      "This section of the forum seems lonely...\n",
      "New Member with a 2016 F-150 3.5 Ecoboost.\n"
     ]
    }
   ],
   "source": [
    "driver = init_driver()\n",
    "data = lookup(driver)\n",
    "time.sleep(5)\n",
    "driver.quit()"
   ]
  },
  {
   "cell_type": "code",
   "execution_count": 7,
   "metadata": {
    "collapsed": true
   },
   "outputs": [],
   "source": [
    "data = pd.DataFrame.from_dict(data)"
   ]
  },
  {
   "cell_type": "code",
   "execution_count": 8,
   "metadata": {},
   "outputs": [],
   "source": [
    "data = process_df(data)"
   ]
  },
  {
   "cell_type": "code",
   "execution_count": 9,
   "metadata": {},
   "outputs": [
    {
     "data": {
      "text/html": [
       "<div>\n",
       "<style>\n",
       "    .dataframe thead tr:only-child th {\n",
       "        text-align: right;\n",
       "    }\n",
       "\n",
       "    .dataframe thead th {\n",
       "        text-align: left;\n",
       "    }\n",
       "\n",
       "    .dataframe tbody tr th {\n",
       "        vertical-align: top;\n",
       "    }\n",
       "</style>\n",
       "<table border=\"1\" class=\"dataframe\">\n",
       "  <thead>\n",
       "    <tr style=\"text-align: right;\">\n",
       "      <th></th>\n",
       "      <th>link</th>\n",
       "      <th>title</th>\n",
       "      <th>Last_post_date</th>\n",
       "      <th>Last_post_time</th>\n",
       "      <th>Replies</th>\n",
       "      <th>Views</th>\n",
       "    </tr>\n",
       "  </thead>\n",
       "  <tbody>\n",
       "    <tr>\n",
       "      <th>261</th>\n",
       "      <td>http://www.f150ecoboost.net/forum/68-2016-ford...</td>\n",
       "      <td>New member</td>\n",
       "      <td>2016-01-27 00:00:00</td>\n",
       "      <td>11:20</td>\n",
       "      <td>8</td>\n",
       "      <td>601</td>\n",
       "    </tr>\n",
       "    <tr>\n",
       "      <th>262</th>\n",
       "      <td>http://www.f150ecoboost.net/forum/68-2016-ford...</td>\n",
       "      <td>New member, purchasing first eco boost</td>\n",
       "      <td>2016-01-23 00:00:00</td>\n",
       "      <td>11:44</td>\n",
       "      <td>14</td>\n",
       "      <td>2234</td>\n",
       "    </tr>\n",
       "    <tr>\n",
       "      <th>263</th>\n",
       "      <td>http://www.f150ecoboost.net/forum/68-2016-ford...</td>\n",
       "      <td>New to the Boost</td>\n",
       "      <td>2016-01-15 00:00:00</td>\n",
       "      <td>05:55</td>\n",
       "      <td>6</td>\n",
       "      <td>960</td>\n",
       "    </tr>\n",
       "    <tr>\n",
       "      <th>264</th>\n",
       "      <td>http://www.f150ecoboost.net/forum/68-2016-ford...</td>\n",
       "      <td>This section of the forum seems lonely...</td>\n",
       "      <td>2015-12-29 00:00:00</td>\n",
       "      <td>12:12</td>\n",
       "      <td>26</td>\n",
       "      <td>3314</td>\n",
       "    </tr>\n",
       "    <tr>\n",
       "      <th>265</th>\n",
       "      <td>http://www.f150ecoboost.net/forum/68-2016-ford...</td>\n",
       "      <td>New Member with a 2016 F-150 3.5 Ecoboost.</td>\n",
       "      <td>2015-12-14 00:00:00</td>\n",
       "      <td>17:22</td>\n",
       "      <td>8</td>\n",
       "      <td>2133</td>\n",
       "    </tr>\n",
       "  </tbody>\n",
       "</table>\n",
       "</div>"
      ],
      "text/plain": [
       "                                                  link  \\\n",
       "261  http://www.f150ecoboost.net/forum/68-2016-ford...   \n",
       "262  http://www.f150ecoboost.net/forum/68-2016-ford...   \n",
       "263  http://www.f150ecoboost.net/forum/68-2016-ford...   \n",
       "264  http://www.f150ecoboost.net/forum/68-2016-ford...   \n",
       "265  http://www.f150ecoboost.net/forum/68-2016-ford...   \n",
       "\n",
       "                                          title       Last_post_date  \\\n",
       "261                                  New member  2016-01-27 00:00:00   \n",
       "262      New member, purchasing first eco boost  2016-01-23 00:00:00   \n",
       "263                            New to the Boost  2016-01-15 00:00:00   \n",
       "264   This section of the forum seems lonely...  2015-12-29 00:00:00   \n",
       "265  New Member with a 2016 F-150 3.5 Ecoboost.  2015-12-14 00:00:00   \n",
       "\n",
       "    Last_post_time  Replies  Views  \n",
       "261          11:20        8    601  \n",
       "262          11:44       14   2234  \n",
       "263          05:55        6    960  \n",
       "264          12:12       26   3314  \n",
       "265          17:22        8   2133  "
      ]
     },
     "execution_count": 9,
     "metadata": {},
     "output_type": "execute_result"
    }
   ],
   "source": [
    "data.tail()"
   ]
  },
  {
   "cell_type": "code",
   "execution_count": 10,
   "metadata": {},
   "outputs": [
    {
     "data": {
      "text/plain": [
       "link              object\n",
       "title             object\n",
       "Last_post_date    object\n",
       "Last_post_time    object\n",
       "Replies            int64\n",
       "Views              int64\n",
       "dtype: object"
      ]
     },
     "execution_count": 10,
     "metadata": {},
     "output_type": "execute_result"
    }
   ],
   "source": [
    "data.dtypes"
   ]
  },
  {
   "cell_type": "code",
   "execution_count": 11,
   "metadata": {
    "collapsed": true
   },
   "outputs": [],
   "source": [
    "sorted_data = sort_values_by(data, ['Replies','Views'], [False,False])"
   ]
  },
  {
   "cell_type": "code",
   "execution_count": 12,
   "metadata": {},
   "outputs": [
    {
     "data": {
      "text/plain": [
       "pandas.core.frame.DataFrame"
      ]
     },
     "execution_count": 12,
     "metadata": {},
     "output_type": "execute_result"
    }
   ],
   "source": [
    "sorted_data.head()\n",
    "type(sorted_data)"
   ]
  },
  {
   "cell_type": "code",
   "execution_count": 13,
   "metadata": {
    "collapsed": true
   },
   "outputs": [],
   "source": [
    "a = sorted_data.groupby('Last_post_date').apply(pd.DataFrame.sort_values, 'Replies')"
   ]
  },
  {
   "cell_type": "code",
   "execution_count": 14,
   "metadata": {},
   "outputs": [
    {
     "data": {
      "text/html": [
       "<div>\n",
       "<style>\n",
       "    .dataframe thead tr:only-child th {\n",
       "        text-align: right;\n",
       "    }\n",
       "\n",
       "    .dataframe thead th {\n",
       "        text-align: left;\n",
       "    }\n",
       "\n",
       "    .dataframe tbody tr th {\n",
       "        vertical-align: top;\n",
       "    }\n",
       "</style>\n",
       "<table border=\"1\" class=\"dataframe\">\n",
       "  <thead>\n",
       "    <tr style=\"text-align: right;\">\n",
       "      <th></th>\n",
       "      <th></th>\n",
       "      <th>link</th>\n",
       "      <th>title</th>\n",
       "      <th>Last_post_date</th>\n",
       "      <th>Last_post_time</th>\n",
       "      <th>Replies</th>\n",
       "      <th>Views</th>\n",
       "    </tr>\n",
       "    <tr>\n",
       "      <th>Last_post_date</th>\n",
       "      <th></th>\n",
       "      <th></th>\n",
       "      <th></th>\n",
       "      <th></th>\n",
       "      <th></th>\n",
       "      <th></th>\n",
       "      <th></th>\n",
       "    </tr>\n",
       "  </thead>\n",
       "  <tbody>\n",
       "    <tr>\n",
       "      <th rowspan=\"2\" valign=\"top\">2015-12-14 00:00:00</th>\n",
       "      <th>252</th>\n",
       "      <td>http://www.f150ecoboost.net/forum/68-2016-ford...</td>\n",
       "      <td>New Member with a 2016 F-150 3.5 Ecoboost.</td>\n",
       "      <td>2015-12-14 00:00:00</td>\n",
       "      <td>17:22</td>\n",
       "      <td>8</td>\n",
       "      <td>2133</td>\n",
       "    </tr>\n",
       "    <tr>\n",
       "      <th>265</th>\n",
       "      <td>http://www.f150ecoboost.net/forum/68-2016-ford...</td>\n",
       "      <td>New Member with a 2016 F-150 3.5 Ecoboost.</td>\n",
       "      <td>2015-12-14 00:00:00</td>\n",
       "      <td>17:22</td>\n",
       "      <td>8</td>\n",
       "      <td>2133</td>\n",
       "    </tr>\n",
       "    <tr>\n",
       "      <th rowspan=\"2\" valign=\"top\">2015-12-29 00:00:00</th>\n",
       "      <th>251</th>\n",
       "      <td>http://www.f150ecoboost.net/forum/68-2016-ford...</td>\n",
       "      <td>This section of the forum seems lonely...</td>\n",
       "      <td>2015-12-29 00:00:00</td>\n",
       "      <td>12:12</td>\n",
       "      <td>26</td>\n",
       "      <td>3314</td>\n",
       "    </tr>\n",
       "    <tr>\n",
       "      <th>264</th>\n",
       "      <td>http://www.f150ecoboost.net/forum/68-2016-ford...</td>\n",
       "      <td>This section of the forum seems lonely...</td>\n",
       "      <td>2015-12-29 00:00:00</td>\n",
       "      <td>12:12</td>\n",
       "      <td>26</td>\n",
       "      <td>3314</td>\n",
       "    </tr>\n",
       "    <tr>\n",
       "      <th>2016-01-15 00:00:00</th>\n",
       "      <th>250</th>\n",
       "      <td>http://www.f150ecoboost.net/forum/68-2016-ford...</td>\n",
       "      <td>New to the Boost</td>\n",
       "      <td>2016-01-15 00:00:00</td>\n",
       "      <td>05:55</td>\n",
       "      <td>6</td>\n",
       "      <td>960</td>\n",
       "    </tr>\n",
       "  </tbody>\n",
       "</table>\n",
       "</div>"
      ],
      "text/plain": [
       "                                                                      link  \\\n",
       "Last_post_date                                                               \n",
       "2015-12-14 00:00:00 252  http://www.f150ecoboost.net/forum/68-2016-ford...   \n",
       "                    265  http://www.f150ecoboost.net/forum/68-2016-ford...   \n",
       "2015-12-29 00:00:00 251  http://www.f150ecoboost.net/forum/68-2016-ford...   \n",
       "                    264  http://www.f150ecoboost.net/forum/68-2016-ford...   \n",
       "2016-01-15 00:00:00 250  http://www.f150ecoboost.net/forum/68-2016-ford...   \n",
       "\n",
       "                                                              title  \\\n",
       "Last_post_date                                                        \n",
       "2015-12-14 00:00:00 252  New Member with a 2016 F-150 3.5 Ecoboost.   \n",
       "                    265  New Member with a 2016 F-150 3.5 Ecoboost.   \n",
       "2015-12-29 00:00:00 251   This section of the forum seems lonely...   \n",
       "                    264   This section of the forum seems lonely...   \n",
       "2016-01-15 00:00:00 250                            New to the Boost   \n",
       "\n",
       "                              Last_post_date Last_post_time  Replies  Views  \n",
       "Last_post_date                                                               \n",
       "2015-12-14 00:00:00 252  2015-12-14 00:00:00          17:22        8   2133  \n",
       "                    265  2015-12-14 00:00:00          17:22        8   2133  \n",
       "2015-12-29 00:00:00 251  2015-12-29 00:00:00          12:12       26   3314  \n",
       "                    264  2015-12-29 00:00:00          12:12       26   3314  \n",
       "2016-01-15 00:00:00 250  2016-01-15 00:00:00          05:55        6    960  "
      ]
     },
     "execution_count": 14,
     "metadata": {},
     "output_type": "execute_result"
    }
   ],
   "source": [
    "a.head()"
   ]
  },
  {
   "cell_type": "code",
   "execution_count": 15,
   "metadata": {},
   "outputs": [
    {
     "data": {
      "text/plain": [
       "pandas.core.frame.DataFrame"
      ]
     },
     "execution_count": 15,
     "metadata": {},
     "output_type": "execute_result"
    }
   ],
   "source": [
    "type(a)"
   ]
  },
  {
   "cell_type": "code",
   "execution_count": 16,
   "metadata": {
    "collapsed": true
   },
   "outputs": [],
   "source": [
    "a.to_csv('Top100_Posts.csv')"
   ]
  },
  {
   "cell_type": "code",
   "execution_count": 17,
   "metadata": {},
   "outputs": [],
   "source": [
    "data.to_csv(('check.csv'))"
   ]
  },
  {
   "cell_type": "code",
   "execution_count": 18,
   "metadata": {},
   "outputs": [
    {
     "data": {
      "text/plain": [
       "(266, 6)"
      ]
     },
     "execution_count": 18,
     "metadata": {},
     "output_type": "execute_result"
    }
   ],
   "source": [
    "data.shape"
   ]
  },
  {
   "cell_type": "code",
   "execution_count": null,
   "metadata": {
    "collapsed": true
   },
   "outputs": [],
   "source": []
  }
 ],
 "metadata": {
  "kernelspec": {
   "display_name": "Python 3",
   "language": "python",
   "name": "python3"
  },
  "language_info": {
   "codemirror_mode": {
    "name": "ipython",
    "version": 3
   },
   "file_extension": ".py",
   "mimetype": "text/x-python",
   "name": "python",
   "nbconvert_exporter": "python",
   "pygments_lexer": "ipython3",
   "version": "3.6.1"
  }
 },
 "nbformat": 4,
 "nbformat_minor": 2
}
